{
 "cells": [
  {
   "cell_type": "markdown",
   "metadata": {},
   "source": [
    "## <div align=\"center\" style=\"color:#2dba4e\"> A/B Testing</div>"
   ]
  },
  {
   "cell_type": "code",
   "execution_count": 1,
   "metadata": {},
   "outputs": [],
   "source": [
    "import pandas as pd\n",
    "import numpy as np\n",
    "import seaborn as sns\n",
    "import matplotlib.pyplot as plt\n",
    "from sklearn.preprocessing import StandardScaler\n",
    "from imblearn.over_sampling import RandomOverSampler\n",
    "from rich.jupyter import print as rprint\n",
    "import warnings\n",
    "warnings.filterwarnings(\"ignore\")"
   ]
  },
  {
   "cell_type": "code",
   "execution_count": 2,
   "metadata": {},
   "outputs": [
    {
     "data": {
      "text/html": [
       "<div>\n",
       "<style scoped>\n",
       "    .dataframe tbody tr th:only-of-type {\n",
       "        vertical-align: middle;\n",
       "    }\n",
       "\n",
       "    .dataframe tbody tr th {\n",
       "        vertical-align: top;\n",
       "    }\n",
       "\n",
       "    .dataframe thead th {\n",
       "        text-align: right;\n",
       "    }\n",
       "</style>\n",
       "<table border=\"1\" class=\"dataframe\">\n",
       "  <thead>\n",
       "    <tr style=\"text-align: right;\">\n",
       "      <th></th>\n",
       "      <th>user_id</th>\n",
       "      <th>click</th>\n",
       "      <th>group</th>\n",
       "      <th>timestamp</th>\n",
       "    </tr>\n",
       "  </thead>\n",
       "  <tbody>\n",
       "    <tr>\n",
       "      <th>0</th>\n",
       "      <td>1</td>\n",
       "      <td>1</td>\n",
       "      <td>exp</td>\n",
       "      <td>2024-01-01 00:00:00</td>\n",
       "    </tr>\n",
       "    <tr>\n",
       "      <th>1</th>\n",
       "      <td>2</td>\n",
       "      <td>0</td>\n",
       "      <td>exp</td>\n",
       "      <td>2024-01-01 00:01:00</td>\n",
       "    </tr>\n",
       "    <tr>\n",
       "      <th>2</th>\n",
       "      <td>3</td>\n",
       "      <td>1</td>\n",
       "      <td>exp</td>\n",
       "      <td>2024-01-01 00:02:00</td>\n",
       "    </tr>\n",
       "    <tr>\n",
       "      <th>3</th>\n",
       "      <td>4</td>\n",
       "      <td>0</td>\n",
       "      <td>exp</td>\n",
       "      <td>2024-01-01 00:03:00</td>\n",
       "    </tr>\n",
       "    <tr>\n",
       "      <th>4</th>\n",
       "      <td>5</td>\n",
       "      <td>1</td>\n",
       "      <td>exp</td>\n",
       "      <td>2024-01-01 00:04:00</td>\n",
       "    </tr>\n",
       "  </tbody>\n",
       "</table>\n",
       "</div>"
      ],
      "text/plain": [
       "   user_id  click group            timestamp\n",
       "0        1      1   exp  2024-01-01 00:00:00\n",
       "1        2      0   exp  2024-01-01 00:01:00\n",
       "2        3      1   exp  2024-01-01 00:02:00\n",
       "3        4      0   exp  2024-01-01 00:03:00\n",
       "4        5      1   exp  2024-01-01 00:04:00"
      ]
     },
     "execution_count": 2,
     "metadata": {},
     "output_type": "execute_result"
    }
   ],
   "source": [
    "df_AB=pd.read_csv(\"./Data/ab_test_click_data.csv\")\n",
    "df_AB.head(5)"
   ]
  },
  {
   "cell_type": "code",
   "execution_count": 3,
   "metadata": {},
   "outputs": [
    {
     "data": {
      "text/html": [
       "<pre style=\"white-space:pre;overflow-x:auto;line-height:normal;font-family:Menlo,'DejaVu Sans Mono',consolas,'Courier New',monospace\">            user_id         click\n",
       "count  <span style=\"color: #008080; text-decoration-color: #008080; font-weight: bold\">20000.000000</span>  <span style=\"color: #008080; text-decoration-color: #008080; font-weight: bold\">20000.000000</span>\n",
       "mean   <span style=\"color: #008080; text-decoration-color: #008080; font-weight: bold\">10000.500000</span>      <span style=\"color: #008080; text-decoration-color: #008080; font-weight: bold\">0.405250</span>\n",
       "std     <span style=\"color: #008080; text-decoration-color: #008080; font-weight: bold\">5773.647028</span>      <span style=\"color: #008080; text-decoration-color: #008080; font-weight: bold\">0.490953</span>\n",
       "min        <span style=\"color: #008080; text-decoration-color: #008080; font-weight: bold\">1.000000</span>      <span style=\"color: #008080; text-decoration-color: #008080; font-weight: bold\">0.000000</span>\n",
       "<span style=\"color: #008080; text-decoration-color: #008080; font-weight: bold\">25</span>%     <span style=\"color: #008080; text-decoration-color: #008080; font-weight: bold\">5000.750000</span>      <span style=\"color: #008080; text-decoration-color: #008080; font-weight: bold\">0.000000</span>\n",
       "<span style=\"color: #008080; text-decoration-color: #008080; font-weight: bold\">50</span>%    <span style=\"color: #008080; text-decoration-color: #008080; font-weight: bold\">10000.500000</span>      <span style=\"color: #008080; text-decoration-color: #008080; font-weight: bold\">0.000000</span>\n",
       "<span style=\"color: #008080; text-decoration-color: #008080; font-weight: bold\">75</span>%    <span style=\"color: #008080; text-decoration-color: #008080; font-weight: bold\">15000.250000</span>      <span style=\"color: #008080; text-decoration-color: #008080; font-weight: bold\">1.000000</span>\n",
       "max    <span style=\"color: #008080; text-decoration-color: #008080; font-weight: bold\">20000.000000</span>      <span style=\"color: #008080; text-decoration-color: #008080; font-weight: bold\">1.000000</span>\n",
       "</pre>\n"
      ],
      "text/plain": [
       "            user_id         click\n",
       "count  \u001b[1;36m20000.000000\u001b[0m  \u001b[1;36m20000.000000\u001b[0m\n",
       "mean   \u001b[1;36m10000.500000\u001b[0m      \u001b[1;36m0.405250\u001b[0m\n",
       "std     \u001b[1;36m5773.647028\u001b[0m      \u001b[1;36m0.490953\u001b[0m\n",
       "min        \u001b[1;36m1.000000\u001b[0m      \u001b[1;36m0.000000\u001b[0m\n",
       "\u001b[1;36m25\u001b[0m%     \u001b[1;36m5000.750000\u001b[0m      \u001b[1;36m0.000000\u001b[0m\n",
       "\u001b[1;36m50\u001b[0m%    \u001b[1;36m10000.500000\u001b[0m      \u001b[1;36m0.000000\u001b[0m\n",
       "\u001b[1;36m75\u001b[0m%    \u001b[1;36m15000.250000\u001b[0m      \u001b[1;36m1.000000\u001b[0m\n",
       "max    \u001b[1;36m20000.000000\u001b[0m      \u001b[1;36m1.000000\u001b[0m\n"
      ]
     },
     "metadata": {},
     "output_type": "display_data"
    }
   ],
   "source": [
    "rprint(df_AB.describe())"
   ]
  },
  {
   "cell_type": "code",
   "execution_count": 8,
   "metadata": {},
   "outputs": [
    {
     "data": {
      "text/plain": [
       "group\n",
       "con    10000\n",
       "exp    10000\n",
       "dtype: int64"
      ]
     },
     "execution_count": 8,
     "metadata": {},
     "output_type": "execute_result"
    }
   ],
   "source": [
    "df_AB.value_counts(\"group\")"
   ]
  },
  {
   "cell_type": "code",
   "execution_count": 5,
   "metadata": {},
   "outputs": [
    {
     "data": {
      "text/html": [
       "<pre style=\"white-space:pre;overflow-x:auto;line-height:normal;font-family:Menlo,'DejaVu Sans Mono',consolas,'Courier New',monospace\">         user_id  click\n",
       "group                  \n",
       "con    <span style=\"color: #008080; text-decoration-color: #008080; font-weight: bold\">150005000</span>   <span style=\"color: #008080; text-decoration-color: #008080; font-weight: bold\">1989</span>\n",
       "exp     <span style=\"color: #008080; text-decoration-color: #008080; font-weight: bold\">50005000</span>   <span style=\"color: #008080; text-decoration-color: #008080; font-weight: bold\">6116</span>\n",
       "</pre>\n"
      ],
      "text/plain": [
       "         user_id  click\n",
       "group                  \n",
       "con    \u001b[1;36m150005000\u001b[0m   \u001b[1;36m1989\u001b[0m\n",
       "exp     \u001b[1;36m50005000\u001b[0m   \u001b[1;36m6116\u001b[0m\n"
      ]
     },
     "metadata": {},
     "output_type": "display_data"
    }
   ],
   "source": [
    "# checking for number of clicks in experimental group and controlled group\n",
    "rprint(df_AB.groupby(\"group\").sum(\"click\"))"
   ]
  },
  {
   "cell_type": "markdown",
   "metadata": {},
   "source": [
    "out of 20,000 control group has 1989 clicks that is $\\frac{1989}{10000}=0.1989$\n",
    "out of 20,000 experimental group 6116 clicks that is $\\frac{6116}{10000}=0.6116$"
   ]
  },
  {
   "cell_type": "code",
   "execution_count": 10,
   "metadata": {},
   "outputs": [
    {
     "data": {
      "image/png": "[encoded data removed]",
      "text/plain": [
       "<Figure size 1000x600 with 1 Axes>"
      ]
     },
     "metadata": {},
     "output_type": "display_data"
    }
   ],
   "source": [
    "palette={0:\"yellow\",1:\"black\"}\n",
    "plt.figure(figsize=(10,6))\n",
    "ax=sns.countplot(x=\"group\",hue=\"click\",data=df_AB,palette=palette)\n",
    "plt.title(\"Click Distribution\")\n",
    "plt.xlabel(\"group\")\n",
    "plt.ylabel(\"count\")\n",
    "plt.legend(title=\"Click\",labels=[\"no\",\"yes\"])\n",
    "\n",
    "\n",
    "group_count=df_AB.groupby([\"group\"]).size()\n",
    "group_click_count=df_AB.groupby([\"group\",\"click\"]).size().reset_index(name=\"count\")\n",
    "\n",
    "for i in ax.patches:\n",
    "    height= i.get_height()\n",
    "    group = \"exp\" if i.get_x()<0.5 else \"con\"\n",
    "    click =  1 if i.get_x() % 1> 0.5 else 0\n",
    "    total = group_count.loc[group]\n",
    "    percentage = 100*height/total\n",
    "    ax.text(i.get_x() + i.get_width() /2. , height + 3, f'{percentage:.2f}%', ha=\"center\",color=\"black\", fontsize=10)\n",
    "\n",
    "plt.tight_layout()\n",
    "plt.show()\n"
   ]
  }
 ],
 "metadata": {
  "kernelspec": {
   "display_name": "base",
   "language": "python",
   "name": "python3"
  },
  "language_info": {
   "codemirror_mode": {
    "name": "ipython",
    "version": 3
   },
   "file_extension": ".py",
   "mimetype": "text/x-python",
   "name": "python",
   "nbconvert_exporter": "python",
   "pygments_lexer": "ipython3",
   "version": "3.11.5"
  }
 },
 "nbformat": 4,
 "nbformat_minor": 2
}
