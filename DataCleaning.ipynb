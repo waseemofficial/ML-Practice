{
 "cells": [
  {
   "cell_type": "markdown",
   "metadata": {},
   "source": [
    "## <div align=\"center\" style=\"color:#2dba4e\"> Data Cleaning </div>"
   ]
  },
  {
   "cell_type": "code",
   "execution_count": 11,
   "metadata": {},
   "outputs": [],
   "source": [
    "import pandas as pd\n",
    "import numpy as np\n",
    "import seaborn as sns\n",
    "import matplotlib.pyplot as plt\n",
    "from sklearn.preprocessing import StandardScaler\n",
    "from imblearn.over_sampling import RandomOverSampler\n",
    "from rich.jupyter import print as rprint\n",
    "import ipywidgets as widgets\n",
    "from rapidfuzz import fuzz as rapidfuzz_fuzz, process as rapidfuzz_process\n",
    "import warnings\n",
    "\n",
    "warnings.filterwarnings(\"ignore\")"
   ]
  },
  {
   "cell_type": "code",
   "execution_count": 5,
   "metadata": {},
   "outputs": [
    {
     "data": {
      "text/html": [
       "<div>\n",
       "<style scoped>\n",
       "    .dataframe tbody tr th:only-of-type {\n",
       "        vertical-align: middle;\n",
       "    }\n",
       "\n",
       "    .dataframe tbody tr th {\n",
       "        vertical-align: top;\n",
       "    }\n",
       "\n",
       "    .dataframe thead th {\n",
       "        text-align: right;\n",
       "    }\n",
       "</style>\n",
       "<table border=\"1\" class=\"dataframe\">\n",
       "  <thead>\n",
       "    <tr style=\"text-align: right;\">\n",
       "      <th></th>\n",
       "      <th>TransactionID</th>\n",
       "      <th>Client</th>\n",
       "      <th>Beneficiary</th>\n",
       "      <th>AmountUSD</th>\n",
       "      <th>TransactionDateTime</th>\n",
       "      <th>ClientTier</th>\n",
       "    </tr>\n",
       "  </thead>\n",
       "  <tbody>\n",
       "    <tr>\n",
       "      <th>0</th>\n",
       "      <td>1</td>\n",
       "      <td>Darth Vader</td>\n",
       "      <td>Luke Skywalker</td>\n",
       "      <td>120.50</td>\n",
       "      <td>2024-06-01 12:30</td>\n",
       "      <td>Gold</td>\n",
       "    </tr>\n",
       "    <tr>\n",
       "      <th>1</th>\n",
       "      <td>2</td>\n",
       "      <td>&lt;Frodo Baggins&gt;</td>\n",
       "      <td>Gandalf the Grey</td>\n",
       "      <td>NaN</td>\n",
       "      <td>2024-06-01 12:31</td>\n",
       "      <td>Silver</td>\n",
       "    </tr>\n",
       "    <tr>\n",
       "      <th>2</th>\n",
       "      <td>3</td>\n",
       "      <td>Tony Stark</td>\n",
       "      <td>Bruce Banner</td>\n",
       "      <td>300.40</td>\n",
       "      <td>2024-06-01 12:32</td>\n",
       "      <td>Gold</td>\n",
       "    </tr>\n",
       "    <tr>\n",
       "      <th>3</th>\n",
       "      <td>4</td>\n",
       "      <td>Tony Stark</td>\n",
       "      <td>Bruce Banner</td>\n",
       "      <td>300.40</td>\n",
       "      <td>2024-06-01 12:32</td>\n",
       "      <td>Gold</td>\n",
       "    </tr>\n",
       "    <tr>\n",
       "      <th>4</th>\n",
       "      <td>5</td>\n",
       "      <td>Jon Snow.</td>\n",
       "      <td>Daenerys Targaryen</td>\n",
       "      <td>150.75</td>\n",
       "      <td>2024-06-01 12:33</td>\n",
       "      <td>Platinum</td>\n",
       "    </tr>\n",
       "  </tbody>\n",
       "</table>\n",
       "</div>"
      ],
      "text/plain": [
       "   TransactionID            Client          Beneficiary  AmountUSD  \\\n",
       "0              1       Darth Vader       Luke Skywalker     120.50   \n",
       "1              2   <Frodo Baggins>     Gandalf the Grey        NaN   \n",
       "2              3        Tony Stark         Bruce Banner     300.40   \n",
       "3              4        Tony Stark         Bruce Banner     300.40   \n",
       "4              5         Jon Snow.   Daenerys Targaryen     150.75   \n",
       "\n",
       "  TransactionDateTime ClientTier  \n",
       "0    2024-06-01 12:30       Gold  \n",
       "1    2024-06-01 12:31     Silver  \n",
       "2    2024-06-01 12:32       Gold  \n",
       "3    2024-06-01 12:32       Gold  \n",
       "4    2024-06-01 12:33   Platinum  "
      ]
     },
     "execution_count": 5,
     "metadata": {},
     "output_type": "execute_result"
    }
   ],
   "source": [
    "df=pd.read_csv(\"./Data/data_to_be_cleaned.csv\")\n",
    "df.head()"
   ]
  },
  {
   "cell_type": "code",
   "execution_count": 7,
   "metadata": {},
   "outputs": [
    {
     "name": "stdout",
     "output_type": "stream",
     "text": [
      "<class 'pandas.core.frame.DataFrame'>\n",
      "RangeIndex: 40 entries, 0 to 39\n",
      "Data columns (total 6 columns):\n",
      " #   Column               Non-Null Count  Dtype  \n",
      "---  ------               --------------  -----  \n",
      " 0   TransactionID        40 non-null     int64  \n",
      " 1   Client               38 non-null     object \n",
      " 2   Beneficiary          40 non-null     object \n",
      " 3   AmountUSD            38 non-null     float64\n",
      " 4   TransactionDateTime  40 non-null     object \n",
      " 5   ClientTier           37 non-null     object \n",
      "dtypes: float64(1), int64(1), object(4)\n",
      "memory usage: 2.0+ KB\n"
     ]
    },
    {
     "data": {
      "text/html": [
       "<pre style=\"white-space:pre;overflow-x:auto;line-height:normal;font-family:Menlo,'DejaVu Sans Mono',consolas,'Courier New',monospace\"><span style=\"color: #800080; text-decoration-color: #800080; font-style: italic\">None</span>\n",
       "</pre>\n"
      ],
      "text/plain": [
       "\u001b[3;35mNone\u001b[0m\n"
      ]
     },
     "metadata": {},
     "output_type": "display_data"
    }
   ],
   "source": [
    "df.info()"
   ]
  },
  {
   "cell_type": "code",
   "execution_count": 8,
   "metadata": {},
   "outputs": [
    {
     "data": {
      "text/plain": [
       "array([' Darth Vader', ' <Frodo Baggins>', ' Tony Stark', ' Jon Snow.',\n",
       "       ' Harry*Potter', ' Luke Skywalker', ' Katniss Everdeen',\n",
       "       ' Michael Scott.', ' Walter White', 'DARTH VADER',\n",
       "       ' Frodo Baggins', ' Jon Snow', nan, ' Hermione Granger',\n",
       "       ' Bruce Wayne', ' -Walter White-', ' Michael Scott',\n",
       "       ' Sherlock Holmes', ' Neo', ' Samwise Gamgee', ' Ellen Ripley',\n",
       "       ' Rick Sanchez', ' Indiana Jones', ' James T. Kirk', ' James Bond',\n",
       "       ' Michael Corleone', ' Jack Sparrow', ' Fox Mulder',\n",
       "       ' Harry Potter', ' Mario', ' Optimus Prime', ' Clark Kent'],\n",
       "      dtype=object)"
      ]
     },
     "execution_count": 8,
     "metadata": {},
     "output_type": "execute_result"
    }
   ],
   "source": [
    "df[\"Client\"].unique();"
   ]
  },
  {
   "cell_type": "markdown",
   "metadata": {},
   "source": [
    "## Fuzzy text search"
   ]
  },
  {
   "cell_type": "code",
   "execution_count": 12,
   "metadata": {},
   "outputs": [
    {
     "data": {
      "application/vnd.jupyter.widget-view+json": {
       "model_id": "e9e9439350f847b99d8eb056ee236219",
       "version_major": 2,
       "version_minor": 0
      },
      "text/plain": [
       "interactive(children=(Text(value='', description='input_text'), Output()), _dom_classes=('widget-interact',))"
      ]
     },
     "metadata": {},
     "output_type": "display_data"
    }
   ],
   "source": [
    "target = df[\"Client\"].unique()\n",
    "\n",
    "def interact_data(input_text):\n",
    "    if not input_text: return\n",
    "    for data, score, _ in rapidfuzz_process.extract(input_text, target, limit=10):\n",
    "        print(f\"{data:60}{score:3.2f}\")\n",
    "\n",
    "\n",
    "widgets.interact(interact_data, input_text=\"\");"
   ]
  },
  {
   "cell_type": "code",
   "execution_count": 13,
   "metadata": {},
   "outputs": [],
   "source": [
    "clean_df=df.copy()"
   ]
  },
  {
   "cell_type": "code",
   "execution_count": 15,
   "metadata": {},
   "outputs": [],
   "source": [
    "# drop the row where na or missing values in client column\n",
    "clean_df.dropna(subset=[\"Client\"],inplace=True)"
   ]
  },
  {
   "cell_type": "code",
   "execution_count": 16,
   "metadata": {},
   "outputs": [
    {
     "data": {
      "text/plain": [
       "Index(['TransactionID', 'Client', 'Beneficiary', 'AmountUSD',\n",
       "       'TransactionDateTime', 'ClientTier'],\n",
       "      dtype='object')"
      ]
     },
     "execution_count": 16,
     "metadata": {},
     "output_type": "execute_result"
    }
   ],
   "source": [
    "clean_df.columns"
   ]
  },
  {
   "cell_type": "code",
   "execution_count": 17,
   "metadata": {},
   "outputs": [],
   "source": [
    "clean_df.drop_duplicates(subset=[\"Client\",'Beneficiary', 'AmountUSD','TransactionDateTime', 'ClientTier'],inplace=True)"
   ]
  },
  {
   "cell_type": "code",
   "execution_count": 19,
   "metadata": {},
   "outputs": [
    {
     "data": {
      "text/plain": [
       "array(['', '<>', '.', '*', '--'], dtype=object)"
      ]
     },
     "execution_count": 19,
     "metadata": {},
     "output_type": "execute_result"
    }
   ],
   "source": [
    "# Removing special characters from the data set using regex\n",
    "\n",
    "clean_df[\"Client\"].str.replace(\"[a-zA-Z0-9 ]\",\"\",regex=True).unique()"
   ]
  },
  {
   "cell_type": "code",
   "execution_count": 20,
   "metadata": {},
   "outputs": [],
   "source": [
    "# strip only effects prefix and postfix in other words start and end of the word\n",
    "clean_df[\"Client\"]=clean_df[\"Client\"].str.strip(\"<>.*- \")"
   ]
  },
  {
   "cell_type": "code",
   "execution_count": 21,
   "metadata": {},
   "outputs": [],
   "source": [
    "# replace operator replaces specific characters with a new character\n",
    "clean_df[\"Client\"]=clean_df[\"Client\"].str.replace(\"*\",\" \")"
   ]
  },
  {
   "cell_type": "code",
   "execution_count": 24,
   "metadata": {},
   "outputs": [],
   "source": [
    "# standardize all columns data\n",
    "clean_df[\"Client\"]=clean_df[\"Client\"].str.upper()\n",
    "clean_df[\"Beneficiary\"]=clean_df[\"Beneficiary\"].str.upper()\n"
   ]
  },
  {
   "cell_type": "code",
   "execution_count": 26,
   "metadata": {},
   "outputs": [
    {
     "data": {
      "image/png": "[encoded data removed]",
      "text/plain": [
       "<Figure size 640x480 with 1 Axes>"
      ]
     },
     "metadata": {},
     "output_type": "display_data"
    }
   ],
   "source": [
    "mean_value= clean_df[\"AmountUSD\"].mean()\n",
    "median_value = clean_df[\"AmountUSD\"].median()\n",
    "\n",
    "ax =clean_df[\"AmountUSD\"].plot(kind=\"hist\",bins=10,color=\"skyblue\",edgecolor=\"black\")\n",
    "ax.set_ylabel(\"Frequency\")\n",
    "ax.set_xlabel(\"Amount USD\")\n",
    "ax.axvline(mean_value,color=\"darkblue\",linestyle=\"dashed\",linewidth=2,label=f'mean: {mean_value:.2f}')\n",
    "ax.axvline(median_value,color=\"darkred\",linestyle=\"dashed\",linewidth=2,label=f'mean: {median_value:.2f}')\n",
    "\n",
    "ax.legend()\n",
    "plt.show()"
   ]
  },
  {
   "cell_type": "code",
   "execution_count": 28,
   "metadata": {},
   "outputs": [],
   "source": [
    "# fill na or missing data with median value as it will introduce minimum error to data set \n",
    "clean_df.fillna({\"AmountUSD\": median_value},inplace=True)\n"
   ]
  },
  {
   "cell_type": "code",
   "execution_count": 29,
   "metadata": {},
   "outputs": [
    {
     "data": {
      "text/plain": [
       " Gold        13\n",
       " Silver       9\n",
       " Platinum     6\n",
       " Bronze       5\n",
       "Name: ClientTier, dtype: int64"
      ]
     },
     "execution_count": 29,
     "metadata": {},
     "output_type": "execute_result"
    }
   ],
   "source": [
    "clean_df[\"ClientTier\"].value_counts()"
   ]
  },
  {
   "cell_type": "code",
   "execution_count": 30,
   "metadata": {},
   "outputs": [],
   "source": [
    "tier_count=clean_df[\"ClientTier\"].value_counts()"
   ]
  },
  {
   "cell_type": "code",
   "execution_count": 31,
   "metadata": {},
   "outputs": [
    {
     "data": {
      "text/plain": [
       "<AxesSubplot: >"
      ]
     },
     "execution_count": 31,
     "metadata": {},
     "output_type": "execute_result"
    },
    {
     "data": {
      "image/png": "[encoded data removed]",
      "text/plain": [
       "<Figure size 640x480 with 1 Axes>"
      ]
     },
     "metadata": {},
     "output_type": "display_data"
    }
   ],
   "source": [
    "tier_count.plot(kind=\"bar\")"
   ]
  },
  {
   "cell_type": "code",
   "execution_count": 34,
   "metadata": {},
   "outputs": [
    {
     "data": {
      "text/plain": [
       "'Gold'"
      ]
     },
     "execution_count": 34,
     "metadata": {},
     "output_type": "execute_result"
    }
   ],
   "source": [
    "clean_df[\"ClientTier\"]=clean_df[\"ClientTier\"].str.strip()\n",
    "client_tire_mode=clean_df[\"ClientTier\"].mode()[0]\n",
    "client_tire_mode"
   ]
  }
 ],
 "metadata": {
  "kernelspec": {
   "display_name": "base",
   "language": "python",
   "name": "python3"
  },
  "language_info": {
   "codemirror_mode": {
    "name": "ipython",
    "version": 3
   },
   "file_extension": ".py",
   "mimetype": "text/x-python",
   "name": "python",
   "nbconvert_exporter": "python",
   "pygments_lexer": "ipython3",
   "version": "3.11.5"
  }
 },
 "nbformat": 4,
 "nbformat_minor": 2
}
