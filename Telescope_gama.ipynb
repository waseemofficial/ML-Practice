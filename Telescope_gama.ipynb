{
 "cells": [
  {
   "cell_type": "code",
   "execution_count": 52,
   "metadata": {},
   "outputs": [],
   "source": [
    "import pandas as pd\n",
    "import numpy as np\n",
    "import seaborn as sns\n",
    "import matplotlib.pyplot as plt\n",
    "from sklearn.preprocessing import StandardScaler\n",
    "from imblearn.over_sampling import RandomOverSampler\n",
    "from rich.jupyter import print as rprint\n",
    "import warnings\n",
    "warnings.filterwarnings(\"ignore\")"
   ]
  },
  {
   "cell_type": "markdown",
   "metadata": {},
   "source": [
    "## <div align=\"center\" style=\"color:#2dba4e\"> Load data</div>"
   ]
  },
  {
   "cell_type": "code",
   "execution_count": 53,
   "metadata": {},
   "outputs": [
    {
     "data": {
      "text/html": [
       "<pre style=\"white-space:pre;overflow-x:auto;line-height:normal;font-family:Menlo,'DejaVu Sans Mono',consolas,'Courier New',monospace\"><span style=\"color: #008000; text-decoration-color: #008000; font-weight: bold\">done</span>\n",
       "</pre>\n"
      ],
      "text/plain": [
       "\u001b[1;32mdone\u001b[0m\n"
      ]
     },
     "metadata": {},
     "output_type": "display_data"
    },
    {
     "data": {
      "text/html": [
       "<div>\n",
       "<style scoped>\n",
       "    .dataframe tbody tr th:only-of-type {\n",
       "        vertical-align: middle;\n",
       "    }\n",
       "\n",
       "    .dataframe tbody tr th {\n",
       "        vertical-align: top;\n",
       "    }\n",
       "\n",
       "    .dataframe thead th {\n",
       "        text-align: right;\n",
       "    }\n",
       "</style>\n",
       "<table border=\"1\" class=\"dataframe\">\n",
       "  <thead>\n",
       "    <tr style=\"text-align: right;\">\n",
       "      <th></th>\n",
       "      <th>fLength</th>\n",
       "      <th>fWidth</th>\n",
       "      <th>fSize</th>\n",
       "      <th>fConc</th>\n",
       "      <th>fConc1</th>\n",
       "      <th>fAsym</th>\n",
       "      <th>fM3Long</th>\n",
       "      <th>fM3Trans</th>\n",
       "      <th>fAlpha</th>\n",
       "      <th>fDist</th>\n",
       "      <th>class</th>\n",
       "    </tr>\n",
       "  </thead>\n",
       "  <tbody>\n",
       "    <tr>\n",
       "      <th>0</th>\n",
       "      <td>28.7967</td>\n",
       "      <td>16.0021</td>\n",
       "      <td>2.6449</td>\n",
       "      <td>0.3918</td>\n",
       "      <td>0.1982</td>\n",
       "      <td>27.7004</td>\n",
       "      <td>22.0110</td>\n",
       "      <td>-8.2027</td>\n",
       "      <td>40.0920</td>\n",
       "      <td>81.8828</td>\n",
       "      <td>g</td>\n",
       "    </tr>\n",
       "    <tr>\n",
       "      <th>1</th>\n",
       "      <td>31.6036</td>\n",
       "      <td>11.7235</td>\n",
       "      <td>2.5185</td>\n",
       "      <td>0.5303</td>\n",
       "      <td>0.3773</td>\n",
       "      <td>26.2722</td>\n",
       "      <td>23.8238</td>\n",
       "      <td>-9.9574</td>\n",
       "      <td>6.3609</td>\n",
       "      <td>205.2610</td>\n",
       "      <td>g</td>\n",
       "    </tr>\n",
       "    <tr>\n",
       "      <th>2</th>\n",
       "      <td>162.0520</td>\n",
       "      <td>136.0310</td>\n",
       "      <td>4.0612</td>\n",
       "      <td>0.0374</td>\n",
       "      <td>0.0187</td>\n",
       "      <td>116.7410</td>\n",
       "      <td>-64.8580</td>\n",
       "      <td>-45.2160</td>\n",
       "      <td>76.9600</td>\n",
       "      <td>256.7880</td>\n",
       "      <td>g</td>\n",
       "    </tr>\n",
       "    <tr>\n",
       "      <th>3</th>\n",
       "      <td>23.8172</td>\n",
       "      <td>9.5728</td>\n",
       "      <td>2.3385</td>\n",
       "      <td>0.6147</td>\n",
       "      <td>0.3922</td>\n",
       "      <td>27.2107</td>\n",
       "      <td>-6.4633</td>\n",
       "      <td>-7.1513</td>\n",
       "      <td>10.4490</td>\n",
       "      <td>116.7370</td>\n",
       "      <td>g</td>\n",
       "    </tr>\n",
       "    <tr>\n",
       "      <th>4</th>\n",
       "      <td>75.1362</td>\n",
       "      <td>30.9205</td>\n",
       "      <td>3.1611</td>\n",
       "      <td>0.3168</td>\n",
       "      <td>0.1832</td>\n",
       "      <td>-5.5277</td>\n",
       "      <td>28.5525</td>\n",
       "      <td>21.8393</td>\n",
       "      <td>4.6480</td>\n",
       "      <td>356.4620</td>\n",
       "      <td>g</td>\n",
       "    </tr>\n",
       "  </tbody>\n",
       "</table>\n",
       "</div>"
      ],
      "text/plain": [
       "    fLength    fWidth   fSize   fConc  fConc1     fAsym  fM3Long  fM3Trans  \\\n",
       "0   28.7967   16.0021  2.6449  0.3918  0.1982   27.7004  22.0110   -8.2027   \n",
       "1   31.6036   11.7235  2.5185  0.5303  0.3773   26.2722  23.8238   -9.9574   \n",
       "2  162.0520  136.0310  4.0612  0.0374  0.0187  116.7410 -64.8580  -45.2160   \n",
       "3   23.8172    9.5728  2.3385  0.6147  0.3922   27.2107  -6.4633   -7.1513   \n",
       "4   75.1362   30.9205  3.1611  0.3168  0.1832   -5.5277  28.5525   21.8393   \n",
       "\n",
       "    fAlpha     fDist class  \n",
       "0  40.0920   81.8828     g  \n",
       "1   6.3609  205.2610     g  \n",
       "2  76.9600  256.7880     g  \n",
       "3  10.4490  116.7370     g  \n",
       "4   4.6480  356.4620     g  "
      ]
     },
     "execution_count": 53,
     "metadata": {},
     "output_type": "execute_result"
    }
   ],
   "source": [
    "cols=[\"fLength\",\"fWidth\",\"fSize\",\"fConc\",\"fConc1\",\"fAsym\",\"fM3Long\",\"fM3Trans\",\"fAlpha\",\"fDist\",\"class\"]\n",
    "df=pd.read_csv(\"./Data/magic04.data\",names=cols)\n",
    "rprint(\"done\",style=\"bold green\")\n",
    "df.head(5)\n"
   ]
  },
  {
   "cell_type": "code",
   "execution_count": 54,
   "metadata": {},
   "outputs": [],
   "source": [
    "\n",
    "df1=df[\"class\"]"
   ]
  },
  {
   "cell_type": "code",
   "execution_count": 55,
   "metadata": {},
   "outputs": [
    {
     "data": {
      "text/plain": [
       "array(['g', 'h'], dtype=object)"
      ]
     },
     "execution_count": 55,
     "metadata": {},
     "output_type": "execute_result"
    }
   ],
   "source": [
    "df[\"class\"].unique()"
   ]
  },
  {
   "cell_type": "markdown",
   "metadata": {},
   "source": [
    "convert g and h to 1 and o using this or using dummies or one-hot-encoding\n",
    "```py\n",
    "# dummies\n",
    "pd.get_dummies(df[\"class\"],dummy_na=True)\n",
    "# one-hot-encoding\n",
    "from sklearn.preprocessing import OneHotEncoder\n",
    "ohe = OneHotEncoder(max_categories=3, sparse_output=False).fit(df[\"class\"])\n",
    "```"
   ]
  },
  {
   "cell_type": "code",
   "execution_count": 56,
   "metadata": {},
   "outputs": [
    {
     "data": {
      "text/plain": [
       "array([1, 0])"
      ]
     },
     "execution_count": 56,
     "metadata": {},
     "output_type": "execute_result"
    }
   ],
   "source": [
    "df[\"class\"] = (df[\"class\"]==\"g\").astype(int)\n",
    "df[\"class\"].unique()"
   ]
  },
  {
   "cell_type": "code",
   "execution_count": 57,
   "metadata": {},
   "outputs": [
    {
     "data": {
      "text/html": [
       "<div>\n",
       "<style scoped>\n",
       "    .dataframe tbody tr th:only-of-type {\n",
       "        vertical-align: middle;\n",
       "    }\n",
       "\n",
       "    .dataframe tbody tr th {\n",
       "        vertical-align: top;\n",
       "    }\n",
       "\n",
       "    .dataframe thead th {\n",
       "        text-align: right;\n",
       "    }\n",
       "</style>\n",
       "<table border=\"1\" class=\"dataframe\">\n",
       "  <thead>\n",
       "    <tr style=\"text-align: right;\">\n",
       "      <th></th>\n",
       "      <th>fLength</th>\n",
       "      <th>fWidth</th>\n",
       "      <th>fSize</th>\n",
       "      <th>fConc</th>\n",
       "      <th>fConc1</th>\n",
       "      <th>fAsym</th>\n",
       "      <th>fM3Long</th>\n",
       "      <th>fM3Trans</th>\n",
       "      <th>fAlpha</th>\n",
       "      <th>fDist</th>\n",
       "      <th>class</th>\n",
       "    </tr>\n",
       "  </thead>\n",
       "  <tbody>\n",
       "    <tr>\n",
       "      <th>0</th>\n",
       "      <td>28.7967</td>\n",
       "      <td>16.0021</td>\n",
       "      <td>2.6449</td>\n",
       "      <td>0.3918</td>\n",
       "      <td>0.1982</td>\n",
       "      <td>27.7004</td>\n",
       "      <td>22.0110</td>\n",
       "      <td>-8.2027</td>\n",
       "      <td>40.0920</td>\n",
       "      <td>81.8828</td>\n",
       "      <td>1</td>\n",
       "    </tr>\n",
       "    <tr>\n",
       "      <th>1</th>\n",
       "      <td>31.6036</td>\n",
       "      <td>11.7235</td>\n",
       "      <td>2.5185</td>\n",
       "      <td>0.5303</td>\n",
       "      <td>0.3773</td>\n",
       "      <td>26.2722</td>\n",
       "      <td>23.8238</td>\n",
       "      <td>-9.9574</td>\n",
       "      <td>6.3609</td>\n",
       "      <td>205.2610</td>\n",
       "      <td>1</td>\n",
       "    </tr>\n",
       "    <tr>\n",
       "      <th>2</th>\n",
       "      <td>162.0520</td>\n",
       "      <td>136.0310</td>\n",
       "      <td>4.0612</td>\n",
       "      <td>0.0374</td>\n",
       "      <td>0.0187</td>\n",
       "      <td>116.7410</td>\n",
       "      <td>-64.8580</td>\n",
       "      <td>-45.2160</td>\n",
       "      <td>76.9600</td>\n",
       "      <td>256.7880</td>\n",
       "      <td>1</td>\n",
       "    </tr>\n",
       "    <tr>\n",
       "      <th>3</th>\n",
       "      <td>23.8172</td>\n",
       "      <td>9.5728</td>\n",
       "      <td>2.3385</td>\n",
       "      <td>0.6147</td>\n",
       "      <td>0.3922</td>\n",
       "      <td>27.2107</td>\n",
       "      <td>-6.4633</td>\n",
       "      <td>-7.1513</td>\n",
       "      <td>10.4490</td>\n",
       "      <td>116.7370</td>\n",
       "      <td>1</td>\n",
       "    </tr>\n",
       "    <tr>\n",
       "      <th>4</th>\n",
       "      <td>75.1362</td>\n",
       "      <td>30.9205</td>\n",
       "      <td>3.1611</td>\n",
       "      <td>0.3168</td>\n",
       "      <td>0.1832</td>\n",
       "      <td>-5.5277</td>\n",
       "      <td>28.5525</td>\n",
       "      <td>21.8393</td>\n",
       "      <td>4.6480</td>\n",
       "      <td>356.4620</td>\n",
       "      <td>1</td>\n",
       "    </tr>\n",
       "  </tbody>\n",
       "</table>\n",
       "</div>"
      ],
      "text/plain": [
       "    fLength    fWidth   fSize   fConc  fConc1     fAsym  fM3Long  fM3Trans  \\\n",
       "0   28.7967   16.0021  2.6449  0.3918  0.1982   27.7004  22.0110   -8.2027   \n",
       "1   31.6036   11.7235  2.5185  0.5303  0.3773   26.2722  23.8238   -9.9574   \n",
       "2  162.0520  136.0310  4.0612  0.0374  0.0187  116.7410 -64.8580  -45.2160   \n",
       "3   23.8172    9.5728  2.3385  0.6147  0.3922   27.2107  -6.4633   -7.1513   \n",
       "4   75.1362   30.9205  3.1611  0.3168  0.1832   -5.5277  28.5525   21.8393   \n",
       "\n",
       "    fAlpha     fDist  class  \n",
       "0  40.0920   81.8828      1  \n",
       "1   6.3609  205.2610      1  \n",
       "2  76.9600  256.7880      1  \n",
       "3  10.4490  116.7370      1  \n",
       "4   4.6480  356.4620      1  "
      ]
     },
     "execution_count": 57,
     "metadata": {},
     "output_type": "execute_result"
    }
   ],
   "source": [
    "df.head(5)"
   ]
  },
  {
   "cell_type": "markdown",
   "metadata": {},
   "source": [
    "categorical data:\n",
    "    - nominal data,ordinal data,\n",
    "  \n",
    "numerical data:\n",
    "    - ratio data,quantitive\n",
    "\n",
    "reference `https://www.youtube.com/watch?v=8N5IMF-T3pc`"
   ]
  },
  {
   "cell_type": "markdown",
   "metadata": {},
   "source": [
    "from the above data we can determine that since <span style=\"color:blue\">\"class\"</span> is given we can use <span style=\"color:green\">supervised learning </span> "
   ]
  },
  {
   "cell_type": "code",
   "execution_count": 58,
   "metadata": {},
   "outputs": [
    {
     "data": {
      "image/png": "[encoded data removed]",
      "text/plain": [
       "<Figure size 640x480 with 1 Axes>"
      ]
     },
     "metadata": {},
     "output_type": "display_data"
    },
    {
     "data": {
      "image/png": "[encoded data removed]",
      "text/plain": [
       "<Figure size 640x480 with 1 Axes>"
      ]
     },
     "metadata": {},
     "output_type": "display_data"
    },
    {
     "data": {
      "image/png": "[encoded data removed]",
      "text/plain": [
       "<Figure size 640x480 with 1 Axes>"
      ]
     },
     "metadata": {},
     "output_type": "display_data"
    },
    {
     "data": {
      "image/png": "[encoded data removed]",
      "text/plain": [
       "<Figure size 640x480 with 1 Axes>"
      ]
     },
     "metadata": {},
     "output_type": "display_data"
    },
    {
     "data": {
      "image/png": "[encoded data removed]",
      "text/plain": [
       "<Figure size 640x480 with 1 Axes>"
      ]
     },
     "metadata": {},
     "output_type": "display_data"
    },
    {
     "data": {
      "image/png": "[encoded data removed]",
      "text/plain": [
       "<Figure size 640x480 with 1 Axes>"
      ]
     },
     "metadata": {},
     "output_type": "display_data"
    },
    {
     "data": {
      "image/png": "[encoded data removed]",
      "text/plain": [
       "<Figure size 640x480 with 1 Axes>"
      ]
     },
     "metadata": {},
     "output_type": "display_data"
    },
    {
     "data": {
      "image/png": "[encoded data removed]",
      "text/plain": [
       "<Figure size 640x480 with 1 Axes>"
      ]
     },
     "metadata": {},
     "output_type": "display_data"
    },
    {
     "data": {
      "image/png": "[encoded data removed]",
      "text/plain": [
       "<Figure size 640x480 with 1 Axes>"
      ]
     },
     "metadata": {},
     "output_type": "display_data"
    },
    {
     "data": {
      "image/png": "[encoded data removed]",
      "text/plain": [
       "<Figure size 640x480 with 1 Axes>"
      ]
     },
     "metadata": {},
     "output_type": "display_data"
    }
   ],
   "source": [
    "for data in cols[:-1]:\n",
    "    plt.hist(df[df[\"class\"]==1][data], color=\"blue\",label=\"gamma\", alpha=0.7,density=True)\n",
    "    plt.hist(df[df[\"class\"]==0][data], color=\"red\",label=\"hadron\", alpha=0.7,density=True)\n",
    "    plt.title(data)\n",
    "    plt.ylabel(\"probability\")\n",
    "    plt.xlabel(data)\n",
    "    plt.legend()\n",
    "    plt.show()"
   ]
  },
  {
   "cell_type": "markdown",
   "metadata": {},
   "source": [
    "## <div align=\"center\" style=\"color:orange\"> split the data into Train,validate,test datasets</div>"
   ]
  },
  {
   "cell_type": "code",
   "execution_count": 59,
   "metadata": {},
   "outputs": [],
   "source": [
    "train,valid,test=np.split(df.sample(frac=1), [int(0.6*len(df)),int(0.8*len(df))])"
   ]
  },
  {
   "cell_type": "code",
   "execution_count": 60,
   "metadata": {},
   "outputs": [
    {
     "data": {
      "text/html": [
       "<pre style=\"white-space:pre;overflow-x:auto;line-height:normal;font-family:Menlo,'DejaVu Sans Mono',consolas,'Courier New',monospace\">data: <span style=\"color: #008080; text-decoration-color: #008080; font-weight: bold\">19020</span> train: <span style=\"color: #008080; text-decoration-color: #008080; font-weight: bold\">11412</span> validate: <span style=\"color: #008080; text-decoration-color: #008080; font-weight: bold\">3804</span> test:<span style=\"color: #008080; text-decoration-color: #008080; font-weight: bold\">3804</span>\n",
       "</pre>\n"
      ],
      "text/plain": [
       "data: \u001b[1;36m19020\u001b[0m train: \u001b[1;36m11412\u001b[0m validate: \u001b[1;36m3804\u001b[0m test:\u001b[1;36m3804\u001b[0m\n"
      ]
     },
     "metadata": {},
     "output_type": "display_data"
    }
   ],
   "source": [
    "rprint(f'data: {len(df)} train: {len(train)} validate: {len(valid)} test:{len(test)}') #sum of train,validate,test = {len(train) + len(validate) + len(test)}"
   ]
  },
  {
   "cell_type": "code",
   "execution_count": null,
   "metadata": {},
   "outputs": [],
   "source": []
  },
  {
   "cell_type": "markdown",
   "metadata": {},
   "source": [
    "## <div align=\"center\"> <span style=\"color:orange\">normalization </span></div>"
   ]
  },
  {
   "cell_type": "code",
   "execution_count": 61,
   "metadata": {},
   "outputs": [],
   "source": [
    "def normalize_data(dataframe,oversample=False):\n",
    "    X= dataframe[dataframe.columns[:-1]].values\n",
    "    y= dataframe[dataframe.columns[-1]].values\n",
    "\n",
    "    scaler = StandardScaler()\n",
    "    X = scaler.fit_transform(X)\n",
    "\n",
    "    if oversample:\n",
    "        ros=RandomOverSampler()\n",
    "        X,y=ros.fit_resample(X,y)\n",
    "\n",
    "    data = np.hstack((X,np.reshape(y,(-1,1))))\n",
    "\n",
    "    return data, X, y"
   ]
  },
  {
   "cell_type": "markdown",
   "metadata": {},
   "source": [
    "Check proportionality of output data"
   ]
  },
  {
   "cell_type": "code",
   "execution_count": 62,
   "metadata": {},
   "outputs": [
    {
     "data": {
      "text/html": [
       "<pre style=\"white-space:pre;overflow-x:auto;line-height:normal;font-family:Menlo,'DejaVu Sans Mono',consolas,'Courier New',monospace\">gamma: <span style=\"color: #008080; text-decoration-color: #008080; font-weight: bold\">7411</span>\n",
       "</pre>\n"
      ],
      "text/plain": [
       "gamma: \u001b[1;36m7411\u001b[0m\n"
      ]
     },
     "metadata": {},
     "output_type": "display_data"
    },
    {
     "data": {
      "text/html": [
       "<pre style=\"white-space:pre;overflow-x:auto;line-height:normal;font-family:Menlo,'DejaVu Sans Mono',consolas,'Courier New',monospace\">hadron: <span style=\"color: #008080; text-decoration-color: #008080; font-weight: bold\">4001</span>\n",
       "</pre>\n"
      ],
      "text/plain": [
       "hadron: \u001b[1;36m4001\u001b[0m\n"
      ]
     },
     "metadata": {},
     "output_type": "display_data"
    }
   ],
   "source": [
    "rprint(\"gamma:\", len(train[train[\"class\"]==1])) # gamaa\n",
    "rprint(\"hadron:\", len(train[train[\"class\"]==0])) # hadron\n"
   ]
  },
  {
   "cell_type": "code",
   "execution_count": 63,
   "metadata": {},
   "outputs": [],
   "source": [
    "train, X_train,y_train = normalize_data(train,oversample=True)\n"
   ]
  },
  {
   "cell_type": "code",
   "execution_count": 64,
   "metadata": {},
   "outputs": [
    {
     "data": {
      "text/html": [
       "<pre style=\"white-space:pre;overflow-x:auto;line-height:normal;font-family:Menlo,'DejaVu Sans Mono',consolas,'Courier New',monospace\">y_train: <span style=\"color: #008080; text-decoration-color: #008080; font-weight: bold\">14822</span>\n",
       "</pre>\n"
      ],
      "text/plain": [
       "y_train: \u001b[1;36m14822\u001b[0m\n"
      ]
     },
     "metadata": {},
     "output_type": "display_data"
    },
    {
     "data": {
      "text/html": [
       "<pre style=\"white-space:pre;overflow-x:auto;line-height:normal;font-family:Menlo,'DejaVu Sans Mono',consolas,'Courier New',monospace\">sum y_train: gamma <span style=\"color: #008080; text-decoration-color: #008080; font-weight: bold\">7411</span>\n",
       "</pre>\n"
      ],
      "text/plain": [
       "sum y_train: gamma \u001b[1;36m7411\u001b[0m\n"
      ]
     },
     "metadata": {},
     "output_type": "display_data"
    },
    {
     "data": {
      "text/html": [
       "<pre style=\"white-space:pre;overflow-x:auto;line-height:normal;font-family:Menlo,'DejaVu Sans Mono',consolas,'Courier New',monospace\">sum y_train hadron: <span style=\"color: #008080; text-decoration-color: #008080; font-weight: bold\">7411</span>\n",
       "</pre>\n"
      ],
      "text/plain": [
       "sum y_train hadron: \u001b[1;36m7411\u001b[0m\n"
      ]
     },
     "metadata": {},
     "output_type": "display_data"
    }
   ],
   "source": [
    "rprint(\"y_train:\", len(y_train)) #total\n",
    "rprint(\"sum y_train: gamma\", sum(y_train==1)) \n",
    "rprint(\"sum y_train hadron:\", sum(y_train==0)) "
   ]
  },
  {
   "cell_type": "code",
   "execution_count": 65,
   "metadata": {},
   "outputs": [],
   "source": [
    "valid, X_valid,y_valid = normalize_data(valid,oversample=False)\n",
    "test, X_test,y_test = normalize_data(test,oversample=False)"
   ]
  },
  {
   "cell_type": "markdown",
   "metadata": {},
   "source": [
    "## types of Models \n",
    "- KNN  \n",
    "- Naive Bayes\n",
    "- Logistic Regression\n",
    "- Support Vector Machines (SVM)  \n",
    "#### Euclidean distance $$d=\\sqrt{(x_{1} - x_{2})^2 + (y_{1} - y_{2})^2}$$  "
   ]
  },
  {
   "cell_type": "code",
   "execution_count": 69,
   "metadata": {},
   "outputs": [],
   "source": [
    "from sklearn.neighbors import KNeighborsClassifier\n",
    "from sklearn.metrics import classification_report\n"
   ]
  },
  {
   "cell_type": "code",
   "execution_count": 71,
   "metadata": {},
   "outputs": [
    {
     "data": {
      "text/html": [
       "<style>#sk-container-id-2 {\n",
       "  /* Definition of color scheme common for light and dark mode */\n",
       "  --sklearn-color-text: black;\n",
       "  --sklearn-color-line: gray;\n",
       "  /* Definition of color scheme for unfitted estimators */\n",
       "  --sklearn-color-unfitted-level-0: #fff5e6;\n",
       "  --sklearn-color-unfitted-level-1: #f6e4d2;\n",
       "  --sklearn-color-unfitted-level-2: #ffe0b3;\n",
       "  --sklearn-color-unfitted-level-3: chocolate;\n",
       "  /* Definition of color scheme for fitted estimators */\n",
       "  --sklearn-color-fitted-level-0: #f0f8ff;\n",
       "  --sklearn-color-fitted-level-1: #d4ebff;\n",
       "  --sklearn-color-fitted-level-2: #b3dbfd;\n",
       "  --sklearn-color-fitted-level-3: cornflowerblue;\n",
       "\n",
       "  /* Specific color for light theme */\n",
       "  --sklearn-color-text-on-default-background: var(--sg-text-color, var(--theme-code-foreground, var(--jp-content-font-color1, black)));\n",
       "  --sklearn-color-background: var(--sg-background-color, var(--theme-background, var(--jp-layout-color0, white)));\n",
       "  --sklearn-color-border-box: var(--sg-text-color, var(--theme-code-foreground, var(--jp-content-font-color1, black)));\n",
       "  --sklearn-color-icon: #696969;\n",
       "\n",
       "  @media (prefers-color-scheme: dark) {\n",
       "    /* Redefinition of color scheme for dark theme */\n",
       "    --sklearn-color-text-on-default-background: var(--sg-text-color, var(--theme-code-foreground, var(--jp-content-font-color1, white)));\n",
       "    --sklearn-color-background: var(--sg-background-color, var(--theme-background, var(--jp-layout-color0, #111)));\n",
       "    --sklearn-color-border-box: var(--sg-text-color, var(--theme-code-foreground, var(--jp-content-font-color1, white)));\n",
       "    --sklearn-color-icon: #878787;\n",
       "  }\n",
       "}\n",
       "\n",
       "#sk-container-id-2 {\n",
       "  color: var(--sklearn-color-text);\n",
       "}\n",
       "\n",
       "#sk-container-id-2 pre {\n",
       "  padding: 0;\n",
       "}\n",
       "\n",
       "#sk-container-id-2 input.sk-hidden--visually {\n",
       "  border: 0;\n",
       "  clip: rect(1px 1px 1px 1px);\n",
       "  clip: rect(1px, 1px, 1px, 1px);\n",
       "  height: 1px;\n",
       "  margin: -1px;\n",
       "  overflow: hidden;\n",
       "  padding: 0;\n",
       "  position: absolute;\n",
       "  width: 1px;\n",
       "}\n",
       "\n",
       "#sk-container-id-2 div.sk-dashed-wrapped {\n",
       "  border: 1px dashed var(--sklearn-color-line);\n",
       "  margin: 0 0.4em 0.5em 0.4em;\n",
       "  box-sizing: border-box;\n",
       "  padding-bottom: 0.4em;\n",
       "  background-color: var(--sklearn-color-background);\n",
       "}\n",
       "\n",
       "#sk-container-id-2 div.sk-container {\n",
       "  /* jupyter's `normalize.less` sets `[hidden] { display: none; }`\n",
       "     but bootstrap.min.css set `[hidden] { display: none !important; }`\n",
       "     so we also need the `!important` here to be able to override the\n",
       "     default hidden behavior on the sphinx rendered scikit-learn.org.\n",
       "     See: https://github.com/scikit-learn/scikit-learn/issues/21755 */\n",
       "  display: inline-block !important;\n",
       "  position: relative;\n",
       "}\n",
       "\n",
       "#sk-container-id-2 div.sk-text-repr-fallback {\n",
       "  display: none;\n",
       "}\n",
       "\n",
       "div.sk-parallel-item,\n",
       "div.sk-serial,\n",
       "div.sk-item {\n",
       "  /* draw centered vertical line to link estimators */\n",
       "  background-image: linear-gradient(var(--sklearn-color-text-on-default-background), var(--sklearn-color-text-on-default-background));\n",
       "  background-size: 2px 100%;\n",
       "  background-repeat: no-repeat;\n",
       "  background-position: center center;\n",
       "}\n",
       "\n",
       "/* Parallel-specific style estimator block */\n",
       "\n",
       "#sk-container-id-2 div.sk-parallel-item::after {\n",
       "  content: \"\";\n",
       "  width: 100%;\n",
       "  border-bottom: 2px solid var(--sklearn-color-text-on-default-background);\n",
       "  flex-grow: 1;\n",
       "}\n",
       "\n",
       "#sk-container-id-2 div.sk-parallel {\n",
       "  display: flex;\n",
       "  align-items: stretch;\n",
       "  justify-content: center;\n",
       "  background-color: var(--sklearn-color-background);\n",
       "  position: relative;\n",
       "}\n",
       "\n",
       "#sk-container-id-2 div.sk-parallel-item {\n",
       "  display: flex;\n",
       "  flex-direction: column;\n",
       "}\n",
       "\n",
       "#sk-container-id-2 div.sk-parallel-item:first-child::after {\n",
       "  align-self: flex-end;\n",
       "  width: 50%;\n",
       "}\n",
       "\n",
       "#sk-container-id-2 div.sk-parallel-item:last-child::after {\n",
       "  align-self: flex-start;\n",
       "  width: 50%;\n",
       "}\n",
       "\n",
       "#sk-container-id-2 div.sk-parallel-item:only-child::after {\n",
       "  width: 0;\n",
       "}\n",
       "\n",
       "/* Serial-specific style estimator block */\n",
       "\n",
       "#sk-container-id-2 div.sk-serial {\n",
       "  display: flex;\n",
       "  flex-direction: column;\n",
       "  align-items: center;\n",
       "  background-color: var(--sklearn-color-background);\n",
       "  padding-right: 1em;\n",
       "  padding-left: 1em;\n",
       "}\n",
       "\n",
       "\n",
       "/* Toggleable style: style used for estimator/Pipeline/ColumnTransformer box that is\n",
       "clickable and can be expanded/collapsed.\n",
       "- Pipeline and ColumnTransformer use this feature and define the default style\n",
       "- Estimators will overwrite some part of the style using the `sk-estimator` class\n",
       "*/\n",
       "\n",
       "/* Pipeline and ColumnTransformer style (default) */\n",
       "\n",
       "#sk-container-id-2 div.sk-toggleable {\n",
       "  /* Default theme specific background. It is overwritten whether we have a\n",
       "  specific estimator or a Pipeline/ColumnTransformer */\n",
       "  background-color: var(--sklearn-color-background);\n",
       "}\n",
       "\n",
       "/* Toggleable label */\n",
       "#sk-container-id-2 label.sk-toggleable__label {\n",
       "  cursor: pointer;\n",
       "  display: block;\n",
       "  width: 100%;\n",
       "  margin-bottom: 0;\n",
       "  padding: 0.5em;\n",
       "  box-sizing: border-box;\n",
       "  text-align: center;\n",
       "}\n",
       "\n",
       "#sk-container-id-2 label.sk-toggleable__label-arrow:before {\n",
       "  /* Arrow on the left of the label */\n",
       "  content: \"▸\";\n",
       "  float: left;\n",
       "  margin-right: 0.25em;\n",
       "  color: var(--sklearn-color-icon);\n",
       "}\n",
       "\n",
       "#sk-container-id-2 label.sk-toggleable__label-arrow:hover:before {\n",
       "  color: var(--sklearn-color-text);\n",
       "}\n",
       "\n",
       "/* Toggleable content - dropdown */\n",
       "\n",
       "#sk-container-id-2 div.sk-toggleable__content {\n",
       "  max-height: 0;\n",
       "  max-width: 0;\n",
       "  overflow: hidden;\n",
       "  text-align: left;\n",
       "  /* unfitted */\n",
       "  background-color: var(--sklearn-color-unfitted-level-0);\n",
       "}\n",
       "\n",
       "#sk-container-id-2 div.sk-toggleable__content.fitted {\n",
       "  /* fitted */\n",
       "  background-color: var(--sklearn-color-fitted-level-0);\n",
       "}\n",
       "\n",
       "#sk-container-id-2 div.sk-toggleable__content pre {\n",
       "  margin: 0.2em;\n",
       "  border-radius: 0.25em;\n",
       "  color: var(--sklearn-color-text);\n",
       "  /* unfitted */\n",
       "  background-color: var(--sklearn-color-unfitted-level-0);\n",
       "}\n",
       "\n",
       "#sk-container-id-2 div.sk-toggleable__content.fitted pre {\n",
       "  /* unfitted */\n",
       "  background-color: var(--sklearn-color-fitted-level-0);\n",
       "}\n",
       "\n",
       "#sk-container-id-2 input.sk-toggleable__control:checked~div.sk-toggleable__content {\n",
       "  /* Expand drop-down */\n",
       "  max-height: 200px;\n",
       "  max-width: 100%;\n",
       "  overflow: auto;\n",
       "}\n",
       "\n",
       "#sk-container-id-2 input.sk-toggleable__control:checked~label.sk-toggleable__label-arrow:before {\n",
       "  content: \"▾\";\n",
       "}\n",
       "\n",
       "/* Pipeline/ColumnTransformer-specific style */\n",
       "\n",
       "#sk-container-id-2 div.sk-label input.sk-toggleable__control:checked~label.sk-toggleable__label {\n",
       "  color: var(--sklearn-color-text);\n",
       "  background-color: var(--sklearn-color-unfitted-level-2);\n",
       "}\n",
       "\n",
       "#sk-container-id-2 div.sk-label.fitted input.sk-toggleable__control:checked~label.sk-toggleable__label {\n",
       "  background-color: var(--sklearn-color-fitted-level-2);\n",
       "}\n",
       "\n",
       "/* Estimator-specific style */\n",
       "\n",
       "/* Colorize estimator box */\n",
       "#sk-container-id-2 div.sk-estimator input.sk-toggleable__control:checked~label.sk-toggleable__label {\n",
       "  /* unfitted */\n",
       "  background-color: var(--sklearn-color-unfitted-level-2);\n",
       "}\n",
       "\n",
       "#sk-container-id-2 div.sk-estimator.fitted input.sk-toggleable__control:checked~label.sk-toggleable__label {\n",
       "  /* fitted */\n",
       "  background-color: var(--sklearn-color-fitted-level-2);\n",
       "}\n",
       "\n",
       "#sk-container-id-2 div.sk-label label.sk-toggleable__label,\n",
       "#sk-container-id-2 div.sk-label label {\n",
       "  /* The background is the default theme color */\n",
       "  color: var(--sklearn-color-text-on-default-background);\n",
       "}\n",
       "\n",
       "/* On hover, darken the color of the background */\n",
       "#sk-container-id-2 div.sk-label:hover label.sk-toggleable__label {\n",
       "  color: var(--sklearn-color-text);\n",
       "  background-color: var(--sklearn-color-unfitted-level-2);\n",
       "}\n",
       "\n",
       "/* Label box, darken color on hover, fitted */\n",
       "#sk-container-id-2 div.sk-label.fitted:hover label.sk-toggleable__label.fitted {\n",
       "  color: var(--sklearn-color-text);\n",
       "  background-color: var(--sklearn-color-fitted-level-2);\n",
       "}\n",
       "\n",
       "/* Estimator label */\n",
       "\n",
       "#sk-container-id-2 div.sk-label label {\n",
       "  font-family: monospace;\n",
       "  font-weight: bold;\n",
       "  display: inline-block;\n",
       "  line-height: 1.2em;\n",
       "}\n",
       "\n",
       "#sk-container-id-2 div.sk-label-container {\n",
       "  text-align: center;\n",
       "}\n",
       "\n",
       "/* Estimator-specific */\n",
       "#sk-container-id-2 div.sk-estimator {\n",
       "  font-family: monospace;\n",
       "  border: 1px dotted var(--sklearn-color-border-box);\n",
       "  border-radius: 0.25em;\n",
       "  box-sizing: border-box;\n",
       "  margin-bottom: 0.5em;\n",
       "  /* unfitted */\n",
       "  background-color: var(--sklearn-color-unfitted-level-0);\n",
       "}\n",
       "\n",
       "#sk-container-id-2 div.sk-estimator.fitted {\n",
       "  /* fitted */\n",
       "  background-color: var(--sklearn-color-fitted-level-0);\n",
       "}\n",
       "\n",
       "/* on hover */\n",
       "#sk-container-id-2 div.sk-estimator:hover {\n",
       "  /* unfitted */\n",
       "  background-color: var(--sklearn-color-unfitted-level-2);\n",
       "}\n",
       "\n",
       "#sk-container-id-2 div.sk-estimator.fitted:hover {\n",
       "  /* fitted */\n",
       "  background-color: var(--sklearn-color-fitted-level-2);\n",
       "}\n",
       "\n",
       "/* Specification for estimator info (e.g. \"i\" and \"?\") */\n",
       "\n",
       "/* Common style for \"i\" and \"?\" */\n",
       "\n",
       ".sk-estimator-doc-link,\n",
       "a:link.sk-estimator-doc-link,\n",
       "a:visited.sk-estimator-doc-link {\n",
       "  float: right;\n",
       "  font-size: smaller;\n",
       "  line-height: 1em;\n",
       "  font-family: monospace;\n",
       "  background-color: var(--sklearn-color-background);\n",
       "  border-radius: 1em;\n",
       "  height: 1em;\n",
       "  width: 1em;\n",
       "  text-decoration: none !important;\n",
       "  margin-left: 1ex;\n",
       "  /* unfitted */\n",
       "  border: var(--sklearn-color-unfitted-level-1) 1pt solid;\n",
       "  color: var(--sklearn-color-unfitted-level-1);\n",
       "}\n",
       "\n",
       ".sk-estimator-doc-link.fitted,\n",
       "a:link.sk-estimator-doc-link.fitted,\n",
       "a:visited.sk-estimator-doc-link.fitted {\n",
       "  /* fitted */\n",
       "  border: var(--sklearn-color-fitted-level-1) 1pt solid;\n",
       "  color: var(--sklearn-color-fitted-level-1);\n",
       "}\n",
       "\n",
       "/* On hover */\n",
       "div.sk-estimator:hover .sk-estimator-doc-link:hover,\n",
       ".sk-estimator-doc-link:hover,\n",
       "div.sk-label-container:hover .sk-estimator-doc-link:hover,\n",
       ".sk-estimator-doc-link:hover {\n",
       "  /* unfitted */\n",
       "  background-color: var(--sklearn-color-unfitted-level-3);\n",
       "  color: var(--sklearn-color-background);\n",
       "  text-decoration: none;\n",
       "}\n",
       "\n",
       "div.sk-estimator.fitted:hover .sk-estimator-doc-link.fitted:hover,\n",
       ".sk-estimator-doc-link.fitted:hover,\n",
       "div.sk-label-container:hover .sk-estimator-doc-link.fitted:hover,\n",
       ".sk-estimator-doc-link.fitted:hover {\n",
       "  /* fitted */\n",
       "  background-color: var(--sklearn-color-fitted-level-3);\n",
       "  color: var(--sklearn-color-background);\n",
       "  text-decoration: none;\n",
       "}\n",
       "\n",
       "/* Span, style for the box shown on hovering the info icon */\n",
       ".sk-estimator-doc-link span {\n",
       "  display: none;\n",
       "  z-index: 9999;\n",
       "  position: relative;\n",
       "  font-weight: normal;\n",
       "  right: .2ex;\n",
       "  padding: .5ex;\n",
       "  margin: .5ex;\n",
       "  width: min-content;\n",
       "  min-width: 20ex;\n",
       "  max-width: 50ex;\n",
       "  color: var(--sklearn-color-text);\n",
       "  box-shadow: 2pt 2pt 4pt #999;\n",
       "  /* unfitted */\n",
       "  background: var(--sklearn-color-unfitted-level-0);\n",
       "  border: .5pt solid var(--sklearn-color-unfitted-level-3);\n",
       "}\n",
       "\n",
       ".sk-estimator-doc-link.fitted span {\n",
       "  /* fitted */\n",
       "  background: var(--sklearn-color-fitted-level-0);\n",
       "  border: var(--sklearn-color-fitted-level-3);\n",
       "}\n",
       "\n",
       ".sk-estimator-doc-link:hover span {\n",
       "  display: block;\n",
       "}\n",
       "\n",
       "/* \"?\"-specific style due to the `<a>` HTML tag */\n",
       "\n",
       "#sk-container-id-2 a.estimator_doc_link {\n",
       "  float: right;\n",
       "  font-size: 1rem;\n",
       "  line-height: 1em;\n",
       "  font-family: monospace;\n",
       "  background-color: var(--sklearn-color-background);\n",
       "  border-radius: 1rem;\n",
       "  height: 1rem;\n",
       "  width: 1rem;\n",
       "  text-decoration: none;\n",
       "  /* unfitted */\n",
       "  color: var(--sklearn-color-unfitted-level-1);\n",
       "  border: var(--sklearn-color-unfitted-level-1) 1pt solid;\n",
       "}\n",
       "\n",
       "#sk-container-id-2 a.estimator_doc_link.fitted {\n",
       "  /* fitted */\n",
       "  border: var(--sklearn-color-fitted-level-1) 1pt solid;\n",
       "  color: var(--sklearn-color-fitted-level-1);\n",
       "}\n",
       "\n",
       "/* On hover */\n",
       "#sk-container-id-2 a.estimator_doc_link:hover {\n",
       "  /* unfitted */\n",
       "  background-color: var(--sklearn-color-unfitted-level-3);\n",
       "  color: var(--sklearn-color-background);\n",
       "  text-decoration: none;\n",
       "}\n",
       "\n",
       "#sk-container-id-2 a.estimator_doc_link.fitted:hover {\n",
       "  /* fitted */\n",
       "  background-color: var(--sklearn-color-fitted-level-3);\n",
       "}\n",
       "</style><div id=\"sk-container-id-2\" class=\"sk-top-container\"><div class=\"sk-text-repr-fallback\"><pre>KNeighborsClassifier(n_neighbors=3)</pre><b>In a Jupyter environment, please rerun this cell to show the HTML representation or trust the notebook. <br />On GitHub, the HTML representation is unable to render, please try loading this page with nbviewer.org.</b></div><div class=\"sk-container\" hidden><div class=\"sk-item\"><div class=\"sk-estimator fitted sk-toggleable\"><input class=\"sk-toggleable__control sk-hidden--visually\" id=\"sk-estimator-id-2\" type=\"checkbox\" checked><label for=\"sk-estimator-id-2\" class=\"sk-toggleable__label fitted sk-toggleable__label-arrow fitted\">&nbsp;&nbsp;KNeighborsClassifier<a class=\"sk-estimator-doc-link fitted\" rel=\"noreferrer\" target=\"_blank\" href=\"https://scikit-learn.org/1.4/modules/generated/sklearn.neighbors.KNeighborsClassifier.html\">?<span>Documentation for KNeighborsClassifier</span></a><span class=\"sk-estimator-doc-link fitted\">i<span>Fitted</span></span></label><div class=\"sk-toggleable__content fitted\"><pre>KNeighborsClassifier(n_neighbors=3)</pre></div> </div></div></div></div>"
      ],
      "text/plain": [
       "KNeighborsClassifier(n_neighbors=3)"
      ]
     },
     "execution_count": 71,
     "metadata": {},
     "output_type": "execute_result"
    }
   ],
   "source": [
    "knn_model=KNeighborsClassifier(n_neighbors=3)\n",
    "knn_model.fit(X_train,y_train)"
   ]
  },
  {
   "cell_type": "code",
   "execution_count": 72,
   "metadata": {},
   "outputs": [],
   "source": [
    "y_predict=knn_model.predict(X_test)"
   ]
  },
  {
   "cell_type": "code",
   "execution_count": 73,
   "metadata": {},
   "outputs": [
    {
     "data": {
      "text/html": [
       "<pre style=\"white-space:pre;overflow-x:auto;line-height:normal;font-family:Menlo,'DejaVu Sans Mono',consolas,'Courier New',monospace\">              precision    recall  f1-score   support\n",
       "\n",
       "           <span style=\"color: #008080; text-decoration-color: #008080; font-weight: bold\">0</span>       <span style=\"color: #008080; text-decoration-color: #008080; font-weight: bold\">0.73</span>      <span style=\"color: #008080; text-decoration-color: #008080; font-weight: bold\">0.73</span>      <span style=\"color: #008080; text-decoration-color: #008080; font-weight: bold\">0.73</span>      <span style=\"color: #008080; text-decoration-color: #008080; font-weight: bold\">1349</span>\n",
       "           <span style=\"color: #008080; text-decoration-color: #008080; font-weight: bold\">1</span>       <span style=\"color: #008080; text-decoration-color: #008080; font-weight: bold\">0.85</span>      <span style=\"color: #008080; text-decoration-color: #008080; font-weight: bold\">0.85</span>      <span style=\"color: #008080; text-decoration-color: #008080; font-weight: bold\">0.85</span>      <span style=\"color: #008080; text-decoration-color: #008080; font-weight: bold\">2455</span>\n",
       "\n",
       "    accuracy                           <span style=\"color: #008080; text-decoration-color: #008080; font-weight: bold\">0.81</span>      <span style=\"color: #008080; text-decoration-color: #008080; font-weight: bold\">3804</span>\n",
       "   macro avg       <span style=\"color: #008080; text-decoration-color: #008080; font-weight: bold\">0.79</span>      <span style=\"color: #008080; text-decoration-color: #008080; font-weight: bold\">0.79</span>      <span style=\"color: #008080; text-decoration-color: #008080; font-weight: bold\">0.79</span>      <span style=\"color: #008080; text-decoration-color: #008080; font-weight: bold\">3804</span>\n",
       "weighted avg       <span style=\"color: #008080; text-decoration-color: #008080; font-weight: bold\">0.81</span>      <span style=\"color: #008080; text-decoration-color: #008080; font-weight: bold\">0.81</span>      <span style=\"color: #008080; text-decoration-color: #008080; font-weight: bold\">0.81</span>      <span style=\"color: #008080; text-decoration-color: #008080; font-weight: bold\">3804</span>\n",
       "\n",
       "</pre>\n"
      ],
      "text/plain": [
       "              precision    recall  f1-score   support\n",
       "\n",
       "           \u001b[1;36m0\u001b[0m       \u001b[1;36m0.73\u001b[0m      \u001b[1;36m0.73\u001b[0m      \u001b[1;36m0.73\u001b[0m      \u001b[1;36m1349\u001b[0m\n",
       "           \u001b[1;36m1\u001b[0m       \u001b[1;36m0.85\u001b[0m      \u001b[1;36m0.85\u001b[0m      \u001b[1;36m0.85\u001b[0m      \u001b[1;36m2455\u001b[0m\n",
       "\n",
       "    accuracy                           \u001b[1;36m0.81\u001b[0m      \u001b[1;36m3804\u001b[0m\n",
       "   macro avg       \u001b[1;36m0.79\u001b[0m      \u001b[1;36m0.79\u001b[0m      \u001b[1;36m0.79\u001b[0m      \u001b[1;36m3804\u001b[0m\n",
       "weighted avg       \u001b[1;36m0.81\u001b[0m      \u001b[1;36m0.81\u001b[0m      \u001b[1;36m0.81\u001b[0m      \u001b[1;36m3804\u001b[0m\n",
       "\n"
      ]
     },
     "metadata": {},
     "output_type": "display_data"
    }
   ],
   "source": [
    "rprint(classification_report(y_test,y_predict))"
   ]
  },
  {
   "cell_type": "markdown",
   "metadata": {},
   "source": [
    "Accuracy = 81% \n",
    "\n",
    "Precission= (actual:73% for 0(gamma) and 85% for 1(hadron))\n",
    "\n",
    "f1-score = "
   ]
  },
  {
   "cell_type": "code",
   "execution_count": 76,
   "metadata": {},
   "outputs": [
    {
     "data": {
      "text/html": [
       "<pre style=\"white-space:pre;overflow-x:auto;line-height:normal;font-family:Menlo,'DejaVu Sans Mono',consolas,'Courier New',monospace\">Accuracy = <span style=\"color: #008080; text-decoration-color: #008080; font-weight: bold\">81</span>% Precission = <span style=\"font-weight: bold\">(</span>actual:<span style=\"color: #008080; text-decoration-color: #008080; font-weight: bold\">73</span>% for <span style=\"color: #800080; text-decoration-color: #800080; font-weight: bold\">0</span><span style=\"font-weight: bold\">(</span>gamma<span style=\"font-weight: bold\">)</span> and <span style=\"color: #008080; text-decoration-color: #008080; font-weight: bold\">85</span>% for <span style=\"color: #800080; text-decoration-color: #800080; font-weight: bold\">1</span><span style=\"font-weight: bold\">(</span>hadron<span style=\"font-weight: bold\">))</span>\n",
       "</pre>\n"
      ],
      "text/plain": [
       "Accuracy = \u001b[1;36m81\u001b[0m% Precission = \u001b[1m(\u001b[0mactual:\u001b[1;36m73\u001b[0m% for \u001b[1;35m0\u001b[0m\u001b[1m(\u001b[0mgamma\u001b[1m)\u001b[0m and \u001b[1;36m85\u001b[0m% for \u001b[1;35m1\u001b[0m\u001b[1m(\u001b[0mhadron\u001b[1m)\u001b[0m\u001b[1m)\u001b[0m\n"
      ]
     },
     "metadata": {},
     "output_type": "display_data"
    }
   ],
   "source": [
    "rprint( \"Accuracy = 81% Precission = (actual:73% for 0(gamma) and 85% for 1(hadron))\")"
   ]
  },
  {
   "cell_type": "markdown",
   "metadata": {},
   "source": [
    "## <div align=\"center\"><span style=\"color:orange\">Naive Bayes</span></div>\n"
   ]
  },
  {
   "cell_type": "code",
   "execution_count": 77,
   "metadata": {},
   "outputs": [],
   "source": [
    "from sklearn.naive_bayes import GaussianNB"
   ]
  },
  {
   "cell_type": "code",
   "execution_count": 78,
   "metadata": {},
   "outputs": [
    {
     "data": {
      "text/html": [
       "<style>#sk-container-id-3 {\n",
       "  /* Definition of color scheme common for light and dark mode */\n",
       "  --sklearn-color-text: black;\n",
       "  --sklearn-color-line: gray;\n",
       "  /* Definition of color scheme for unfitted estimators */\n",
       "  --sklearn-color-unfitted-level-0: #fff5e6;\n",
       "  --sklearn-color-unfitted-level-1: #f6e4d2;\n",
       "  --sklearn-color-unfitted-level-2: #ffe0b3;\n",
       "  --sklearn-color-unfitted-level-3: chocolate;\n",
       "  /* Definition of color scheme for fitted estimators */\n",
       "  --sklearn-color-fitted-level-0: #f0f8ff;\n",
       "  --sklearn-color-fitted-level-1: #d4ebff;\n",
       "  --sklearn-color-fitted-level-2: #b3dbfd;\n",
       "  --sklearn-color-fitted-level-3: cornflowerblue;\n",
       "\n",
       "  /* Specific color for light theme */\n",
       "  --sklearn-color-text-on-default-background: var(--sg-text-color, var(--theme-code-foreground, var(--jp-content-font-color1, black)));\n",
       "  --sklearn-color-background: var(--sg-background-color, var(--theme-background, var(--jp-layout-color0, white)));\n",
       "  --sklearn-color-border-box: var(--sg-text-color, var(--theme-code-foreground, var(--jp-content-font-color1, black)));\n",
       "  --sklearn-color-icon: #696969;\n",
       "\n",
       "  @media (prefers-color-scheme: dark) {\n",
       "    /* Redefinition of color scheme for dark theme */\n",
       "    --sklearn-color-text-on-default-background: var(--sg-text-color, var(--theme-code-foreground, var(--jp-content-font-color1, white)));\n",
       "    --sklearn-color-background: var(--sg-background-color, var(--theme-background, var(--jp-layout-color0, #111)));\n",
       "    --sklearn-color-border-box: var(--sg-text-color, var(--theme-code-foreground, var(--jp-content-font-color1, white)));\n",
       "    --sklearn-color-icon: #878787;\n",
       "  }\n",
       "}\n",
       "\n",
       "#sk-container-id-3 {\n",
       "  color: var(--sklearn-color-text);\n",
       "}\n",
       "\n",
       "#sk-container-id-3 pre {\n",
       "  padding: 0;\n",
       "}\n",
       "\n",
       "#sk-container-id-3 input.sk-hidden--visually {\n",
       "  border: 0;\n",
       "  clip: rect(1px 1px 1px 1px);\n",
       "  clip: rect(1px, 1px, 1px, 1px);\n",
       "  height: 1px;\n",
       "  margin: -1px;\n",
       "  overflow: hidden;\n",
       "  padding: 0;\n",
       "  position: absolute;\n",
       "  width: 1px;\n",
       "}\n",
       "\n",
       "#sk-container-id-3 div.sk-dashed-wrapped {\n",
       "  border: 1px dashed var(--sklearn-color-line);\n",
       "  margin: 0 0.4em 0.5em 0.4em;\n",
       "  box-sizing: border-box;\n",
       "  padding-bottom: 0.4em;\n",
       "  background-color: var(--sklearn-color-background);\n",
       "}\n",
       "\n",
       "#sk-container-id-3 div.sk-container {\n",
       "  /* jupyter's `normalize.less` sets `[hidden] { display: none; }`\n",
       "     but bootstrap.min.css set `[hidden] { display: none !important; }`\n",
       "     so we also need the `!important` here to be able to override the\n",
       "     default hidden behavior on the sphinx rendered scikit-learn.org.\n",
       "     See: https://github.com/scikit-learn/scikit-learn/issues/21755 */\n",
       "  display: inline-block !important;\n",
       "  position: relative;\n",
       "}\n",
       "\n",
       "#sk-container-id-3 div.sk-text-repr-fallback {\n",
       "  display: none;\n",
       "}\n",
       "\n",
       "div.sk-parallel-item,\n",
       "div.sk-serial,\n",
       "div.sk-item {\n",
       "  /* draw centered vertical line to link estimators */\n",
       "  background-image: linear-gradient(var(--sklearn-color-text-on-default-background), var(--sklearn-color-text-on-default-background));\n",
       "  background-size: 2px 100%;\n",
       "  background-repeat: no-repeat;\n",
       "  background-position: center center;\n",
       "}\n",
       "\n",
       "/* Parallel-specific style estimator block */\n",
       "\n",
       "#sk-container-id-3 div.sk-parallel-item::after {\n",
       "  content: \"\";\n",
       "  width: 100%;\n",
       "  border-bottom: 2px solid var(--sklearn-color-text-on-default-background);\n",
       "  flex-grow: 1;\n",
       "}\n",
       "\n",
       "#sk-container-id-3 div.sk-parallel {\n",
       "  display: flex;\n",
       "  align-items: stretch;\n",
       "  justify-content: center;\n",
       "  background-color: var(--sklearn-color-background);\n",
       "  position: relative;\n",
       "}\n",
       "\n",
       "#sk-container-id-3 div.sk-parallel-item {\n",
       "  display: flex;\n",
       "  flex-direction: column;\n",
       "}\n",
       "\n",
       "#sk-container-id-3 div.sk-parallel-item:first-child::after {\n",
       "  align-self: flex-end;\n",
       "  width: 50%;\n",
       "}\n",
       "\n",
       "#sk-container-id-3 div.sk-parallel-item:last-child::after {\n",
       "  align-self: flex-start;\n",
       "  width: 50%;\n",
       "}\n",
       "\n",
       "#sk-container-id-3 div.sk-parallel-item:only-child::after {\n",
       "  width: 0;\n",
       "}\n",
       "\n",
       "/* Serial-specific style estimator block */\n",
       "\n",
       "#sk-container-id-3 div.sk-serial {\n",
       "  display: flex;\n",
       "  flex-direction: column;\n",
       "  align-items: center;\n",
       "  background-color: var(--sklearn-color-background);\n",
       "  padding-right: 1em;\n",
       "  padding-left: 1em;\n",
       "}\n",
       "\n",
       "\n",
       "/* Toggleable style: style used for estimator/Pipeline/ColumnTransformer box that is\n",
       "clickable and can be expanded/collapsed.\n",
       "- Pipeline and ColumnTransformer use this feature and define the default style\n",
       "- Estimators will overwrite some part of the style using the `sk-estimator` class\n",
       "*/\n",
       "\n",
       "/* Pipeline and ColumnTransformer style (default) */\n",
       "\n",
       "#sk-container-id-3 div.sk-toggleable {\n",
       "  /* Default theme specific background. It is overwritten whether we have a\n",
       "  specific estimator or a Pipeline/ColumnTransformer */\n",
       "  background-color: var(--sklearn-color-background);\n",
       "}\n",
       "\n",
       "/* Toggleable label */\n",
       "#sk-container-id-3 label.sk-toggleable__label {\n",
       "  cursor: pointer;\n",
       "  display: block;\n",
       "  width: 100%;\n",
       "  margin-bottom: 0;\n",
       "  padding: 0.5em;\n",
       "  box-sizing: border-box;\n",
       "  text-align: center;\n",
       "}\n",
       "\n",
       "#sk-container-id-3 label.sk-toggleable__label-arrow:before {\n",
       "  /* Arrow on the left of the label */\n",
       "  content: \"▸\";\n",
       "  float: left;\n",
       "  margin-right: 0.25em;\n",
       "  color: var(--sklearn-color-icon);\n",
       "}\n",
       "\n",
       "#sk-container-id-3 label.sk-toggleable__label-arrow:hover:before {\n",
       "  color: var(--sklearn-color-text);\n",
       "}\n",
       "\n",
       "/* Toggleable content - dropdown */\n",
       "\n",
       "#sk-container-id-3 div.sk-toggleable__content {\n",
       "  max-height: 0;\n",
       "  max-width: 0;\n",
       "  overflow: hidden;\n",
       "  text-align: left;\n",
       "  /* unfitted */\n",
       "  background-color: var(--sklearn-color-unfitted-level-0);\n",
       "}\n",
       "\n",
       "#sk-container-id-3 div.sk-toggleable__content.fitted {\n",
       "  /* fitted */\n",
       "  background-color: var(--sklearn-color-fitted-level-0);\n",
       "}\n",
       "\n",
       "#sk-container-id-3 div.sk-toggleable__content pre {\n",
       "  margin: 0.2em;\n",
       "  border-radius: 0.25em;\n",
       "  color: var(--sklearn-color-text);\n",
       "  /* unfitted */\n",
       "  background-color: var(--sklearn-color-unfitted-level-0);\n",
       "}\n",
       "\n",
       "#sk-container-id-3 div.sk-toggleable__content.fitted pre {\n",
       "  /* unfitted */\n",
       "  background-color: var(--sklearn-color-fitted-level-0);\n",
       "}\n",
       "\n",
       "#sk-container-id-3 input.sk-toggleable__control:checked~div.sk-toggleable__content {\n",
       "  /* Expand drop-down */\n",
       "  max-height: 200px;\n",
       "  max-width: 100%;\n",
       "  overflow: auto;\n",
       "}\n",
       "\n",
       "#sk-container-id-3 input.sk-toggleable__control:checked~label.sk-toggleable__label-arrow:before {\n",
       "  content: \"▾\";\n",
       "}\n",
       "\n",
       "/* Pipeline/ColumnTransformer-specific style */\n",
       "\n",
       "#sk-container-id-3 div.sk-label input.sk-toggleable__control:checked~label.sk-toggleable__label {\n",
       "  color: var(--sklearn-color-text);\n",
       "  background-color: var(--sklearn-color-unfitted-level-2);\n",
       "}\n",
       "\n",
       "#sk-container-id-3 div.sk-label.fitted input.sk-toggleable__control:checked~label.sk-toggleable__label {\n",
       "  background-color: var(--sklearn-color-fitted-level-2);\n",
       "}\n",
       "\n",
       "/* Estimator-specific style */\n",
       "\n",
       "/* Colorize estimator box */\n",
       "#sk-container-id-3 div.sk-estimator input.sk-toggleable__control:checked~label.sk-toggleable__label {\n",
       "  /* unfitted */\n",
       "  background-color: var(--sklearn-color-unfitted-level-2);\n",
       "}\n",
       "\n",
       "#sk-container-id-3 div.sk-estimator.fitted input.sk-toggleable__control:checked~label.sk-toggleable__label {\n",
       "  /* fitted */\n",
       "  background-color: var(--sklearn-color-fitted-level-2);\n",
       "}\n",
       "\n",
       "#sk-container-id-3 div.sk-label label.sk-toggleable__label,\n",
       "#sk-container-id-3 div.sk-label label {\n",
       "  /* The background is the default theme color */\n",
       "  color: var(--sklearn-color-text-on-default-background);\n",
       "}\n",
       "\n",
       "/* On hover, darken the color of the background */\n",
       "#sk-container-id-3 div.sk-label:hover label.sk-toggleable__label {\n",
       "  color: var(--sklearn-color-text);\n",
       "  background-color: var(--sklearn-color-unfitted-level-2);\n",
       "}\n",
       "\n",
       "/* Label box, darken color on hover, fitted */\n",
       "#sk-container-id-3 div.sk-label.fitted:hover label.sk-toggleable__label.fitted {\n",
       "  color: var(--sklearn-color-text);\n",
       "  background-color: var(--sklearn-color-fitted-level-2);\n",
       "}\n",
       "\n",
       "/* Estimator label */\n",
       "\n",
       "#sk-container-id-3 div.sk-label label {\n",
       "  font-family: monospace;\n",
       "  font-weight: bold;\n",
       "  display: inline-block;\n",
       "  line-height: 1.2em;\n",
       "}\n",
       "\n",
       "#sk-container-id-3 div.sk-label-container {\n",
       "  text-align: center;\n",
       "}\n",
       "\n",
       "/* Estimator-specific */\n",
       "#sk-container-id-3 div.sk-estimator {\n",
       "  font-family: monospace;\n",
       "  border: 1px dotted var(--sklearn-color-border-box);\n",
       "  border-radius: 0.25em;\n",
       "  box-sizing: border-box;\n",
       "  margin-bottom: 0.5em;\n",
       "  /* unfitted */\n",
       "  background-color: var(--sklearn-color-unfitted-level-0);\n",
       "}\n",
       "\n",
       "#sk-container-id-3 div.sk-estimator.fitted {\n",
       "  /* fitted */\n",
       "  background-color: var(--sklearn-color-fitted-level-0);\n",
       "}\n",
       "\n",
       "/* on hover */\n",
       "#sk-container-id-3 div.sk-estimator:hover {\n",
       "  /* unfitted */\n",
       "  background-color: var(--sklearn-color-unfitted-level-2);\n",
       "}\n",
       "\n",
       "#sk-container-id-3 div.sk-estimator.fitted:hover {\n",
       "  /* fitted */\n",
       "  background-color: var(--sklearn-color-fitted-level-2);\n",
       "}\n",
       "\n",
       "/* Specification for estimator info (e.g. \"i\" and \"?\") */\n",
       "\n",
       "/* Common style for \"i\" and \"?\" */\n",
       "\n",
       ".sk-estimator-doc-link,\n",
       "a:link.sk-estimator-doc-link,\n",
       "a:visited.sk-estimator-doc-link {\n",
       "  float: right;\n",
       "  font-size: smaller;\n",
       "  line-height: 1em;\n",
       "  font-family: monospace;\n",
       "  background-color: var(--sklearn-color-background);\n",
       "  border-radius: 1em;\n",
       "  height: 1em;\n",
       "  width: 1em;\n",
       "  text-decoration: none !important;\n",
       "  margin-left: 1ex;\n",
       "  /* unfitted */\n",
       "  border: var(--sklearn-color-unfitted-level-1) 1pt solid;\n",
       "  color: var(--sklearn-color-unfitted-level-1);\n",
       "}\n",
       "\n",
       ".sk-estimator-doc-link.fitted,\n",
       "a:link.sk-estimator-doc-link.fitted,\n",
       "a:visited.sk-estimator-doc-link.fitted {\n",
       "  /* fitted */\n",
       "  border: var(--sklearn-color-fitted-level-1) 1pt solid;\n",
       "  color: var(--sklearn-color-fitted-level-1);\n",
       "}\n",
       "\n",
       "/* On hover */\n",
       "div.sk-estimator:hover .sk-estimator-doc-link:hover,\n",
       ".sk-estimator-doc-link:hover,\n",
       "div.sk-label-container:hover .sk-estimator-doc-link:hover,\n",
       ".sk-estimator-doc-link:hover {\n",
       "  /* unfitted */\n",
       "  background-color: var(--sklearn-color-unfitted-level-3);\n",
       "  color: var(--sklearn-color-background);\n",
       "  text-decoration: none;\n",
       "}\n",
       "\n",
       "div.sk-estimator.fitted:hover .sk-estimator-doc-link.fitted:hover,\n",
       ".sk-estimator-doc-link.fitted:hover,\n",
       "div.sk-label-container:hover .sk-estimator-doc-link.fitted:hover,\n",
       ".sk-estimator-doc-link.fitted:hover {\n",
       "  /* fitted */\n",
       "  background-color: var(--sklearn-color-fitted-level-3);\n",
       "  color: var(--sklearn-color-background);\n",
       "  text-decoration: none;\n",
       "}\n",
       "\n",
       "/* Span, style for the box shown on hovering the info icon */\n",
       ".sk-estimator-doc-link span {\n",
       "  display: none;\n",
       "  z-index: 9999;\n",
       "  position: relative;\n",
       "  font-weight: normal;\n",
       "  right: .2ex;\n",
       "  padding: .5ex;\n",
       "  margin: .5ex;\n",
       "  width: min-content;\n",
       "  min-width: 20ex;\n",
       "  max-width: 50ex;\n",
       "  color: var(--sklearn-color-text);\n",
       "  box-shadow: 2pt 2pt 4pt #999;\n",
       "  /* unfitted */\n",
       "  background: var(--sklearn-color-unfitted-level-0);\n",
       "  border: .5pt solid var(--sklearn-color-unfitted-level-3);\n",
       "}\n",
       "\n",
       ".sk-estimator-doc-link.fitted span {\n",
       "  /* fitted */\n",
       "  background: var(--sklearn-color-fitted-level-0);\n",
       "  border: var(--sklearn-color-fitted-level-3);\n",
       "}\n",
       "\n",
       ".sk-estimator-doc-link:hover span {\n",
       "  display: block;\n",
       "}\n",
       "\n",
       "/* \"?\"-specific style due to the `<a>` HTML tag */\n",
       "\n",
       "#sk-container-id-3 a.estimator_doc_link {\n",
       "  float: right;\n",
       "  font-size: 1rem;\n",
       "  line-height: 1em;\n",
       "  font-family: monospace;\n",
       "  background-color: var(--sklearn-color-background);\n",
       "  border-radius: 1rem;\n",
       "  height: 1rem;\n",
       "  width: 1rem;\n",
       "  text-decoration: none;\n",
       "  /* unfitted */\n",
       "  color: var(--sklearn-color-unfitted-level-1);\n",
       "  border: var(--sklearn-color-unfitted-level-1) 1pt solid;\n",
       "}\n",
       "\n",
       "#sk-container-id-3 a.estimator_doc_link.fitted {\n",
       "  /* fitted */\n",
       "  border: var(--sklearn-color-fitted-level-1) 1pt solid;\n",
       "  color: var(--sklearn-color-fitted-level-1);\n",
       "}\n",
       "\n",
       "/* On hover */\n",
       "#sk-container-id-3 a.estimator_doc_link:hover {\n",
       "  /* unfitted */\n",
       "  background-color: var(--sklearn-color-unfitted-level-3);\n",
       "  color: var(--sklearn-color-background);\n",
       "  text-decoration: none;\n",
       "}\n",
       "\n",
       "#sk-container-id-3 a.estimator_doc_link.fitted:hover {\n",
       "  /* fitted */\n",
       "  background-color: var(--sklearn-color-fitted-level-3);\n",
       "}\n",
       "</style><div id=\"sk-container-id-3\" class=\"sk-top-container\"><div class=\"sk-text-repr-fallback\"><pre>GaussianNB()</pre><b>In a Jupyter environment, please rerun this cell to show the HTML representation or trust the notebook. <br />On GitHub, the HTML representation is unable to render, please try loading this page with nbviewer.org.</b></div><div class=\"sk-container\" hidden><div class=\"sk-item\"><div class=\"sk-estimator fitted sk-toggleable\"><input class=\"sk-toggleable__control sk-hidden--visually\" id=\"sk-estimator-id-3\" type=\"checkbox\" checked><label for=\"sk-estimator-id-3\" class=\"sk-toggleable__label fitted sk-toggleable__label-arrow fitted\">&nbsp;&nbsp;GaussianNB<a class=\"sk-estimator-doc-link fitted\" rel=\"noreferrer\" target=\"_blank\" href=\"https://scikit-learn.org/1.4/modules/generated/sklearn.naive_bayes.GaussianNB.html\">?<span>Documentation for GaussianNB</span></a><span class=\"sk-estimator-doc-link fitted\">i<span>Fitted</span></span></label><div class=\"sk-toggleable__content fitted\"><pre>GaussianNB()</pre></div> </div></div></div></div>"
      ],
      "text/plain": [
       "GaussianNB()"
      ]
     },
     "execution_count": 78,
     "metadata": {},
     "output_type": "execute_result"
    }
   ],
   "source": [
    "nb_model=GaussianNB()\n",
    "nb_model.fit(X_train,y_train)"
   ]
  },
  {
   "cell_type": "code",
   "execution_count": 79,
   "metadata": {},
   "outputs": [],
   "source": [
    "nb_model=nb_model.fit(X_train,y_train)"
   ]
  },
  {
   "cell_type": "code",
   "execution_count": 80,
   "metadata": {},
   "outputs": [
    {
     "data": {
      "text/html": [
       "<pre style=\"white-space:pre;overflow-x:auto;line-height:normal;font-family:Menlo,'DejaVu Sans Mono',consolas,'Courier New',monospace\">              precision    recall  f1-score   support\n",
       "\n",
       "           <span style=\"color: #008080; text-decoration-color: #008080; font-weight: bold\">0</span>       <span style=\"color: #008080; text-decoration-color: #008080; font-weight: bold\">0.66</span>      <span style=\"color: #008080; text-decoration-color: #008080; font-weight: bold\">0.40</span>      <span style=\"color: #008080; text-decoration-color: #008080; font-weight: bold\">0.50</span>      <span style=\"color: #008080; text-decoration-color: #008080; font-weight: bold\">1349</span>\n",
       "           <span style=\"color: #008080; text-decoration-color: #008080; font-weight: bold\">1</span>       <span style=\"color: #008080; text-decoration-color: #008080; font-weight: bold\">0.73</span>      <span style=\"color: #008080; text-decoration-color: #008080; font-weight: bold\">0.89</span>      <span style=\"color: #008080; text-decoration-color: #008080; font-weight: bold\">0.80</span>      <span style=\"color: #008080; text-decoration-color: #008080; font-weight: bold\">2455</span>\n",
       "\n",
       "    accuracy                           <span style=\"color: #008080; text-decoration-color: #008080; font-weight: bold\">0.71</span>      <span style=\"color: #008080; text-decoration-color: #008080; font-weight: bold\">3804</span>\n",
       "   macro avg       <span style=\"color: #008080; text-decoration-color: #008080; font-weight: bold\">0.69</span>      <span style=\"color: #008080; text-decoration-color: #008080; font-weight: bold\">0.64</span>      <span style=\"color: #008080; text-decoration-color: #008080; font-weight: bold\">0.65</span>      <span style=\"color: #008080; text-decoration-color: #008080; font-weight: bold\">3804</span>\n",
       "weighted avg       <span style=\"color: #008080; text-decoration-color: #008080; font-weight: bold\">0.70</span>      <span style=\"color: #008080; text-decoration-color: #008080; font-weight: bold\">0.71</span>      <span style=\"color: #008080; text-decoration-color: #008080; font-weight: bold\">0.69</span>      <span style=\"color: #008080; text-decoration-color: #008080; font-weight: bold\">3804</span>\n",
       "\n",
       "</pre>\n"
      ],
      "text/plain": [
       "              precision    recall  f1-score   support\n",
       "\n",
       "           \u001b[1;36m0\u001b[0m       \u001b[1;36m0.66\u001b[0m      \u001b[1;36m0.40\u001b[0m      \u001b[1;36m0.50\u001b[0m      \u001b[1;36m1349\u001b[0m\n",
       "           \u001b[1;36m1\u001b[0m       \u001b[1;36m0.73\u001b[0m      \u001b[1;36m0.89\u001b[0m      \u001b[1;36m0.80\u001b[0m      \u001b[1;36m2455\u001b[0m\n",
       "\n",
       "    accuracy                           \u001b[1;36m0.71\u001b[0m      \u001b[1;36m3804\u001b[0m\n",
       "   macro avg       \u001b[1;36m0.69\u001b[0m      \u001b[1;36m0.64\u001b[0m      \u001b[1;36m0.65\u001b[0m      \u001b[1;36m3804\u001b[0m\n",
       "weighted avg       \u001b[1;36m0.70\u001b[0m      \u001b[1;36m0.71\u001b[0m      \u001b[1;36m0.69\u001b[0m      \u001b[1;36m3804\u001b[0m\n",
       "\n"
      ]
     },
     "metadata": {},
     "output_type": "display_data"
    }
   ],
   "source": [
    "y_predict=nb_model.predict(X_test)\n",
    "rprint(classification_report(y_test,y_predict))"
   ]
  },
  {
   "cell_type": "markdown",
   "metadata": {},
   "source": [
    "NO improvement in model"
   ]
  },
  {
   "cell_type": "markdown",
   "metadata": {},
   "source": [
    "## ## <div align=\"center\"><span style=\"color:orange\">Log Regression</span></div>\n"
   ]
  },
  {
   "cell_type": "code",
   "execution_count": 81,
   "metadata": {},
   "outputs": [],
   "source": [
    "from sklearn.linear_model import LogisticRegression"
   ]
  },
  {
   "cell_type": "code",
   "execution_count": 82,
   "metadata": {},
   "outputs": [],
   "source": [
    "log_model=LogisticRegression()\n",
    "log_model = log_model.fit(X_train,y_train)"
   ]
  },
  {
   "cell_type": "code",
   "execution_count": 83,
   "metadata": {},
   "outputs": [
    {
     "data": {
      "text/html": [
       "<pre style=\"white-space:pre;overflow-x:auto;line-height:normal;font-family:Menlo,'DejaVu Sans Mono',consolas,'Courier New',monospace\">              precision    recall  f1-score   support\n",
       "\n",
       "           <span style=\"color: #008080; text-decoration-color: #008080; font-weight: bold\">0</span>       <span style=\"color: #008080; text-decoration-color: #008080; font-weight: bold\">0.69</span>      <span style=\"color: #008080; text-decoration-color: #008080; font-weight: bold\">0.72</span>      <span style=\"color: #008080; text-decoration-color: #008080; font-weight: bold\">0.71</span>      <span style=\"color: #008080; text-decoration-color: #008080; font-weight: bold\">1349</span>\n",
       "           <span style=\"color: #008080; text-decoration-color: #008080; font-weight: bold\">1</span>       <span style=\"color: #008080; text-decoration-color: #008080; font-weight: bold\">0.84</span>      <span style=\"color: #008080; text-decoration-color: #008080; font-weight: bold\">0.82</span>      <span style=\"color: #008080; text-decoration-color: #008080; font-weight: bold\">0.83</span>      <span style=\"color: #008080; text-decoration-color: #008080; font-weight: bold\">2455</span>\n",
       "\n",
       "    accuracy                           <span style=\"color: #008080; text-decoration-color: #008080; font-weight: bold\">0.79</span>      <span style=\"color: #008080; text-decoration-color: #008080; font-weight: bold\">3804</span>\n",
       "   macro avg       <span style=\"color: #008080; text-decoration-color: #008080; font-weight: bold\">0.77</span>      <span style=\"color: #008080; text-decoration-color: #008080; font-weight: bold\">0.77</span>      <span style=\"color: #008080; text-decoration-color: #008080; font-weight: bold\">0.77</span>      <span style=\"color: #008080; text-decoration-color: #008080; font-weight: bold\">3804</span>\n",
       "weighted avg       <span style=\"color: #008080; text-decoration-color: #008080; font-weight: bold\">0.79</span>      <span style=\"color: #008080; text-decoration-color: #008080; font-weight: bold\">0.79</span>      <span style=\"color: #008080; text-decoration-color: #008080; font-weight: bold\">0.79</span>      <span style=\"color: #008080; text-decoration-color: #008080; font-weight: bold\">3804</span>\n",
       "\n",
       "</pre>\n"
      ],
      "text/plain": [
       "              precision    recall  f1-score   support\n",
       "\n",
       "           \u001b[1;36m0\u001b[0m       \u001b[1;36m0.69\u001b[0m      \u001b[1;36m0.72\u001b[0m      \u001b[1;36m0.71\u001b[0m      \u001b[1;36m1349\u001b[0m\n",
       "           \u001b[1;36m1\u001b[0m       \u001b[1;36m0.84\u001b[0m      \u001b[1;36m0.82\u001b[0m      \u001b[1;36m0.83\u001b[0m      \u001b[1;36m2455\u001b[0m\n",
       "\n",
       "    accuracy                           \u001b[1;36m0.79\u001b[0m      \u001b[1;36m3804\u001b[0m\n",
       "   macro avg       \u001b[1;36m0.77\u001b[0m      \u001b[1;36m0.77\u001b[0m      \u001b[1;36m0.77\u001b[0m      \u001b[1;36m3804\u001b[0m\n",
       "weighted avg       \u001b[1;36m0.79\u001b[0m      \u001b[1;36m0.79\u001b[0m      \u001b[1;36m0.79\u001b[0m      \u001b[1;36m3804\u001b[0m\n",
       "\n"
      ]
     },
     "metadata": {},
     "output_type": "display_data"
    }
   ],
   "source": [
    "y_predict=log_model.predict(X_test)\n",
    "rprint(classification_report(y_test,y_predict))"
   ]
  },
  {
   "cell_type": "markdown",
   "metadata": {},
   "source": [
    "## <div align=\"center\"><span style=\"color:orange\">Support Vector Machines (SVM)</span></div>\n"
   ]
  },
  {
   "cell_type": "code",
   "execution_count": 88,
   "metadata": {},
   "outputs": [
    {
     "data": {
      "text/html": [
       "<pre style=\"white-space:pre;overflow-x:auto;line-height:normal;font-family:Menlo,'DejaVu Sans Mono',consolas,'Courier New',monospace\"><span style=\"color: #800000; text-decoration-color: #800000; font-weight: bold\">Note</span> : <span style=\"color: #800000; text-decoration-color: #800000\">SVM</span>  are not good if <span style=\"color: #008000; text-decoration-color: #008000\">outliers</span> are present in dataset \n",
       "</pre>\n"
      ],
      "text/plain": [
       "\u001b[1;31mNote\u001b[0m : \u001b[31mSVM\u001b[0m  are not good if \u001b[32moutliers\u001b[0m are present in dataset \n"
      ]
     },
     "metadata": {},
     "output_type": "display_data"
    }
   ],
   "source": [
    "rprint(\"[bold red]Note[/bold red] : [red]SVM[/red]  are not good if [green]outliers[/green] are present in dataset \")"
   ]
  },
  {
   "cell_type": "code",
   "execution_count": 90,
   "metadata": {},
   "outputs": [],
   "source": [
    "from sklearn.svm import SVC #Support Vector Classifier"
   ]
  },
  {
   "cell_type": "code",
   "execution_count": 91,
   "metadata": {},
   "outputs": [],
   "source": [
    "svm_model=SVC()\n",
    "svm_model = svm_model.fit(X_train,y_train)"
   ]
  },
  {
   "cell_type": "code",
   "execution_count": 92,
   "metadata": {},
   "outputs": [
    {
     "data": {
      "text/html": [
       "<pre style=\"white-space:pre;overflow-x:auto;line-height:normal;font-family:Menlo,'DejaVu Sans Mono',consolas,'Courier New',monospace\">              precision    recall  f1-score   support\n",
       "\n",
       "           <span style=\"color: #008080; text-decoration-color: #008080; font-weight: bold\">0</span>       <span style=\"color: #008080; text-decoration-color: #008080; font-weight: bold\">0.82</span>      <span style=\"color: #008080; text-decoration-color: #008080; font-weight: bold\">0.80</span>      <span style=\"color: #008080; text-decoration-color: #008080; font-weight: bold\">0.81</span>      <span style=\"color: #008080; text-decoration-color: #008080; font-weight: bold\">1349</span>\n",
       "           <span style=\"color: #008080; text-decoration-color: #008080; font-weight: bold\">1</span>       <span style=\"color: #008080; text-decoration-color: #008080; font-weight: bold\">0.89</span>      <span style=\"color: #008080; text-decoration-color: #008080; font-weight: bold\">0.90</span>      <span style=\"color: #008080; text-decoration-color: #008080; font-weight: bold\">0.90</span>      <span style=\"color: #008080; text-decoration-color: #008080; font-weight: bold\">2455</span>\n",
       "\n",
       "    accuracy                           <span style=\"color: #008080; text-decoration-color: #008080; font-weight: bold\">0.87</span>      <span style=\"color: #008080; text-decoration-color: #008080; font-weight: bold\">3804</span>\n",
       "   macro avg       <span style=\"color: #008080; text-decoration-color: #008080; font-weight: bold\">0.85</span>      <span style=\"color: #008080; text-decoration-color: #008080; font-weight: bold\">0.85</span>      <span style=\"color: #008080; text-decoration-color: #008080; font-weight: bold\">0.85</span>      <span style=\"color: #008080; text-decoration-color: #008080; font-weight: bold\">3804</span>\n",
       "weighted avg       <span style=\"color: #008080; text-decoration-color: #008080; font-weight: bold\">0.86</span>      <span style=\"color: #008080; text-decoration-color: #008080; font-weight: bold\">0.87</span>      <span style=\"color: #008080; text-decoration-color: #008080; font-weight: bold\">0.86</span>      <span style=\"color: #008080; text-decoration-color: #008080; font-weight: bold\">3804</span>\n",
       "\n",
       "</pre>\n"
      ],
      "text/plain": [
       "              precision    recall  f1-score   support\n",
       "\n",
       "           \u001b[1;36m0\u001b[0m       \u001b[1;36m0.82\u001b[0m      \u001b[1;36m0.80\u001b[0m      \u001b[1;36m0.81\u001b[0m      \u001b[1;36m1349\u001b[0m\n",
       "           \u001b[1;36m1\u001b[0m       \u001b[1;36m0.89\u001b[0m      \u001b[1;36m0.90\u001b[0m      \u001b[1;36m0.90\u001b[0m      \u001b[1;36m2455\u001b[0m\n",
       "\n",
       "    accuracy                           \u001b[1;36m0.87\u001b[0m      \u001b[1;36m3804\u001b[0m\n",
       "   macro avg       \u001b[1;36m0.85\u001b[0m      \u001b[1;36m0.85\u001b[0m      \u001b[1;36m0.85\u001b[0m      \u001b[1;36m3804\u001b[0m\n",
       "weighted avg       \u001b[1;36m0.86\u001b[0m      \u001b[1;36m0.87\u001b[0m      \u001b[1;36m0.86\u001b[0m      \u001b[1;36m3804\u001b[0m\n",
       "\n"
      ]
     },
     "metadata": {},
     "output_type": "display_data"
    }
   ],
   "source": [
    "y_predict=svm_model.predict(X_test)\n",
    "rprint(classification_report(y_test,y_predict))"
   ]
  },
  {
   "cell_type": "markdown",
   "metadata": {},
   "source": [
    "#### The best model yet is SVM"
   ]
  },
  {
   "cell_type": "markdown",
   "metadata": {},
   "source": [
    "lets try unsupervised learning Neural Network to beat the model"
   ]
  },
  {
   "cell_type": "code",
   "execution_count": 93,
   "metadata": {},
   "outputs": [
    {
     "name": "stdout",
     "output_type": "stream",
     "text": [
      "WARNING:tensorflow:From c:\\Users\\ACER\\anaconda3\\Lib\\site-packages\\keras\\src\\losses.py:2976: The name tf.losses.sparse_softmax_cross_entropy is deprecated. Please use tf.compat.v1.losses.sparse_softmax_cross_entropy instead.\n",
      "\n"
     ]
    }
   ],
   "source": [
    "import tensorflow as tf"
   ]
  },
  {
   "cell_type": "code",
   "execution_count": 94,
   "metadata": {},
   "outputs": [
    {
     "name": "stdout",
     "output_type": "stream",
     "text": [
      "WARNING:tensorflow:From c:\\Users\\ACER\\anaconda3\\Lib\\site-packages\\keras\\src\\backend.py:873: The name tf.get_default_graph is deprecated. Please use tf.compat.v1.get_default_graph instead.\n",
      "\n"
     ]
    }
   ],
   "source": [
    "nn_model= tf.keras.Sequential([\n",
    "    tf.keras.layers.Dense(32,activation=\"relu\",input_shape=(10,)), # activation options relu, sigmoid tanh\n",
    "    tf.keras.layers.Dense(32,activation=\"relu\"),\n",
    "    tf.keras.layers.Dense(1,activation=\"sigmoid\") # always use sigmoid for last/output layer for activation\n",
    "])"
   ]
  },
  {
   "cell_type": "code",
   "execution_count": 97,
   "metadata": {},
   "outputs": [],
   "source": [
    "nn_model.compile(optimizer=tf.keras.optimizers.Adam(0.001),loss=\"binary_crossentropy\",metrics=[\"accuracy\"])"
   ]
  },
  {
   "cell_type": "code",
   "execution_count": 95,
   "metadata": {},
   "outputs": [],
   "source": [
    "def plot_loss(history):\n",
    "    plt.plot(history.history[\"loss\"],label=\"loss\")\n",
    "    plt.plot(history.history[\"val_loss\"],label=\"val_loss\")\n",
    "    plt.xlabel(\"Epoch\")\n",
    "    plt.ylabel(\"Binary crossentropy\")\n",
    "    plt.legend()\n",
    "    plt.grid(True)\n",
    "    plt.show()\n",
    "\n",
    "\n",
    "def plot_accuracy(history):\n",
    "    plt.plot(history.history[\"accuracy\"],label=\"accuracy\")\n",
    "    plt.plot(history.history[\"val_accuracy\"],label=\"val_accuracy\")\n",
    "    plt.xlabel(\"Epoch\")\n",
    "    plt.ylabel(\"Accuracy\")\n",
    "    plt.legend()\n",
    "    plt.grid(True)\n",
    "    plt.show()\n"
   ]
  },
  {
   "cell_type": "code",
   "execution_count": 98,
   "metadata": {},
   "outputs": [
    {
     "name": "stdout",
     "output_type": "stream",
     "text": [
      "Epoch 1/100\n",
      "WARNING:tensorflow:From c:\\Users\\ACER\\anaconda3\\Lib\\site-packages\\keras\\src\\utils\\tf_utils.py:492: The name tf.ragged.RaggedTensorValue is deprecated. Please use tf.compat.v1.ragged.RaggedTensorValue instead.\n",
      "\n",
      "WARNING:tensorflow:From c:\\Users\\ACER\\anaconda3\\Lib\\site-packages\\keras\\src\\engine\\base_layer_utils.py:384: The name tf.executing_eagerly_outside_functions is deprecated. Please use tf.compat.v1.executing_eagerly_outside_functions instead.\n",
      "\n",
      "371/371 [==============================] - 13s 15ms/step - loss: 0.4605 - accuracy: 0.7836 - val_loss: 0.5832 - val_accuracy: 0.6658\n",
      "Epoch 2/100\n",
      "371/371 [==============================] - 2s 6ms/step - loss: 0.3786 - accuracy: 0.8377 - val_loss: 0.5567 - val_accuracy: 0.7120\n",
      "Epoch 3/100\n",
      "371/371 [==============================] - 2s 5ms/step - loss: 0.3584 - accuracy: 0.8504 - val_loss: 0.5438 - val_accuracy: 0.7150\n",
      "Epoch 4/100\n",
      "371/371 [==============================] - 2s 5ms/step - loss: 0.3482 - accuracy: 0.8548 - val_loss: 0.5110 - val_accuracy: 0.7332\n",
      "Epoch 5/100\n",
      "371/371 [==============================] - 2s 6ms/step - loss: 0.3406 - accuracy: 0.8576 - val_loss: 0.5224 - val_accuracy: 0.7376\n",
      "Epoch 6/100\n",
      "371/371 [==============================] - 2s 5ms/step - loss: 0.3365 - accuracy: 0.8581 - val_loss: 0.4830 - val_accuracy: 0.7403\n",
      "Epoch 7/100\n",
      "371/371 [==============================] - 2s 6ms/step - loss: 0.3316 - accuracy: 0.8621 - val_loss: 0.4604 - val_accuracy: 0.7504\n",
      "Epoch 8/100\n",
      "371/371 [==============================] - 2s 7ms/step - loss: 0.3290 - accuracy: 0.8618 - val_loss: 0.4323 - val_accuracy: 0.7619\n",
      "Epoch 9/100\n",
      "371/371 [==============================] - 2s 5ms/step - loss: 0.3253 - accuracy: 0.8653 - val_loss: 0.4477 - val_accuracy: 0.7636\n",
      "Epoch 10/100\n",
      "371/371 [==============================] - 2s 6ms/step - loss: 0.3208 - accuracy: 0.8649 - val_loss: 0.5059 - val_accuracy: 0.7319\n",
      "Epoch 11/100\n",
      "371/371 [==============================] - 2s 5ms/step - loss: 0.3197 - accuracy: 0.8668 - val_loss: 0.4534 - val_accuracy: 0.7535\n",
      "Epoch 12/100\n",
      "371/371 [==============================] - 2s 5ms/step - loss: 0.3169 - accuracy: 0.8668 - val_loss: 0.5213 - val_accuracy: 0.7288\n",
      "Epoch 13/100\n",
      "371/371 [==============================] - 2s 5ms/step - loss: 0.3160 - accuracy: 0.8667 - val_loss: 0.4334 - val_accuracy: 0.7626\n",
      "Epoch 14/100\n",
      "371/371 [==============================] - 2s 5ms/step - loss: 0.3134 - accuracy: 0.8687 - val_loss: 0.4778 - val_accuracy: 0.7497\n",
      "Epoch 15/100\n",
      "371/371 [==============================] - 2s 6ms/step - loss: 0.3119 - accuracy: 0.8667 - val_loss: 0.4164 - val_accuracy: 0.7740\n",
      "Epoch 16/100\n",
      "371/371 [==============================] - 2s 5ms/step - loss: 0.3094 - accuracy: 0.8712 - val_loss: 0.4695 - val_accuracy: 0.7484\n",
      "Epoch 17/100\n",
      "371/371 [==============================] - 2s 6ms/step - loss: 0.3079 - accuracy: 0.8713 - val_loss: 0.4947 - val_accuracy: 0.7457\n",
      "Epoch 18/100\n",
      "371/371 [==============================] - 2s 5ms/step - loss: 0.3064 - accuracy: 0.8721 - val_loss: 0.4858 - val_accuracy: 0.7444\n",
      "Epoch 19/100\n",
      "371/371 [==============================] - 2s 5ms/step - loss: 0.3057 - accuracy: 0.8705 - val_loss: 0.4644 - val_accuracy: 0.7487\n",
      "Epoch 20/100\n",
      "371/371 [==============================] - 2s 6ms/step - loss: 0.3047 - accuracy: 0.8697 - val_loss: 0.5008 - val_accuracy: 0.7356\n",
      "Epoch 21/100\n",
      "371/371 [==============================] - 2s 5ms/step - loss: 0.3024 - accuracy: 0.8718 - val_loss: 0.4621 - val_accuracy: 0.7599\n",
      "Epoch 22/100\n",
      "371/371 [==============================] - 2s 5ms/step - loss: 0.3012 - accuracy: 0.8717 - val_loss: 0.4881 - val_accuracy: 0.7440\n",
      "Epoch 23/100\n",
      "371/371 [==============================] - 2s 5ms/step - loss: 0.3002 - accuracy: 0.8711 - val_loss: 0.4871 - val_accuracy: 0.7450\n",
      "Epoch 24/100\n",
      "371/371 [==============================] - 2s 5ms/step - loss: 0.2993 - accuracy: 0.8750 - val_loss: 0.4422 - val_accuracy: 0.7585\n",
      "Epoch 25/100\n",
      "371/371 [==============================] - 2s 6ms/step - loss: 0.2983 - accuracy: 0.8754 - val_loss: 0.4823 - val_accuracy: 0.7481\n",
      "Epoch 26/100\n",
      "371/371 [==============================] - 2s 5ms/step - loss: 0.2977 - accuracy: 0.8737 - val_loss: 0.4252 - val_accuracy: 0.7713\n",
      "Epoch 27/100\n",
      "371/371 [==============================] - 2s 5ms/step - loss: 0.2964 - accuracy: 0.8737 - val_loss: 0.4452 - val_accuracy: 0.7659\n",
      "Epoch 28/100\n",
      "371/371 [==============================] - 2s 6ms/step - loss: 0.2971 - accuracy: 0.8732 - val_loss: 0.4453 - val_accuracy: 0.7602\n",
      "Epoch 29/100\n",
      "371/371 [==============================] - 2s 5ms/step - loss: 0.2950 - accuracy: 0.8756 - val_loss: 0.4874 - val_accuracy: 0.7491\n",
      "Epoch 30/100\n",
      "371/371 [==============================] - 2s 6ms/step - loss: 0.2939 - accuracy: 0.8764 - val_loss: 0.4370 - val_accuracy: 0.7676\n",
      "Epoch 31/100\n",
      "371/371 [==============================] - 2s 5ms/step - loss: 0.2935 - accuracy: 0.8759 - val_loss: 0.4324 - val_accuracy: 0.7686\n",
      "Epoch 32/100\n",
      "371/371 [==============================] - 2s 6ms/step - loss: 0.2933 - accuracy: 0.8771 - val_loss: 0.4123 - val_accuracy: 0.7841\n",
      "Epoch 33/100\n",
      "371/371 [==============================] - 2s 5ms/step - loss: 0.2928 - accuracy: 0.8777 - val_loss: 0.4899 - val_accuracy: 0.7356\n",
      "Epoch 34/100\n",
      "371/371 [==============================] - 2s 5ms/step - loss: 0.2912 - accuracy: 0.8765 - val_loss: 0.4501 - val_accuracy: 0.7636\n",
      "Epoch 35/100\n",
      "371/371 [==============================] - 2s 6ms/step - loss: 0.2918 - accuracy: 0.8746 - val_loss: 0.4213 - val_accuracy: 0.7808\n",
      "Epoch 36/100\n",
      "371/371 [==============================] - 2s 5ms/step - loss: 0.2919 - accuracy: 0.8761 - val_loss: 0.4807 - val_accuracy: 0.7467\n",
      "Epoch 37/100\n",
      "371/371 [==============================] - 2s 5ms/step - loss: 0.2894 - accuracy: 0.8759 - val_loss: 0.4343 - val_accuracy: 0.7757\n",
      "Epoch 38/100\n",
      "371/371 [==============================] - 2s 5ms/step - loss: 0.2893 - accuracy: 0.8768 - val_loss: 0.5103 - val_accuracy: 0.7484\n",
      "Epoch 39/100\n",
      "371/371 [==============================] - 2s 5ms/step - loss: 0.2901 - accuracy: 0.8786 - val_loss: 0.4223 - val_accuracy: 0.7798\n",
      "Epoch 40/100\n",
      "371/371 [==============================] - 2s 6ms/step - loss: 0.2879 - accuracy: 0.8798 - val_loss: 0.3846 - val_accuracy: 0.8003\n",
      "Epoch 41/100\n",
      "371/371 [==============================] - 2s 5ms/step - loss: 0.2889 - accuracy: 0.8786 - val_loss: 0.4510 - val_accuracy: 0.7642\n",
      "Epoch 42/100\n",
      "371/371 [==============================] - 2s 6ms/step - loss: 0.2866 - accuracy: 0.8781 - val_loss: 0.3703 - val_accuracy: 0.8054\n",
      "Epoch 43/100\n",
      "371/371 [==============================] - 2s 5ms/step - loss: 0.2873 - accuracy: 0.8796 - val_loss: 0.3658 - val_accuracy: 0.8094\n",
      "Epoch 44/100\n",
      "371/371 [==============================] - 5s 13ms/step - loss: 0.2866 - accuracy: 0.8785 - val_loss: 0.4181 - val_accuracy: 0.7757\n",
      "Epoch 45/100\n",
      "371/371 [==============================] - 9s 24ms/step - loss: 0.2848 - accuracy: 0.8796 - val_loss: 0.4520 - val_accuracy: 0.7653\n",
      "Epoch 46/100\n",
      "371/371 [==============================] - 8s 21ms/step - loss: 0.2832 - accuracy: 0.8807 - val_loss: 0.4475 - val_accuracy: 0.7727\n",
      "Epoch 47/100\n",
      "371/371 [==============================] - 4s 12ms/step - loss: 0.2839 - accuracy: 0.8813 - val_loss: 0.3755 - val_accuracy: 0.8054\n",
      "Epoch 48/100\n",
      "371/371 [==============================] - 4s 11ms/step - loss: 0.2838 - accuracy: 0.8807 - val_loss: 0.4120 - val_accuracy: 0.7899\n",
      "Epoch 49/100\n",
      "371/371 [==============================] - 4s 11ms/step - loss: 0.2840 - accuracy: 0.8792 - val_loss: 0.4154 - val_accuracy: 0.7804\n",
      "Epoch 50/100\n",
      "371/371 [==============================] - 3s 9ms/step - loss: 0.2834 - accuracy: 0.8804 - val_loss: 0.3965 - val_accuracy: 0.7885\n",
      "Epoch 51/100\n",
      "371/371 [==============================] - 8s 23ms/step - loss: 0.2821 - accuracy: 0.8796 - val_loss: 0.4230 - val_accuracy: 0.7788\n",
      "Epoch 52/100\n",
      "371/371 [==============================] - 9s 25ms/step - loss: 0.2820 - accuracy: 0.8809 - val_loss: 0.3833 - val_accuracy: 0.7976\n",
      "Epoch 53/100\n",
      "371/371 [==============================] - 9s 25ms/step - loss: 0.2811 - accuracy: 0.8813 - val_loss: 0.4147 - val_accuracy: 0.7818\n",
      "Epoch 54/100\n",
      "371/371 [==============================] - 9s 23ms/step - loss: 0.2810 - accuracy: 0.8810 - val_loss: 0.3912 - val_accuracy: 0.7936\n",
      "Epoch 55/100\n",
      "371/371 [==============================] - 5s 13ms/step - loss: 0.2804 - accuracy: 0.8821 - val_loss: 0.4035 - val_accuracy: 0.7916\n",
      "Epoch 56/100\n",
      "371/371 [==============================] - 9s 24ms/step - loss: 0.2796 - accuracy: 0.8814 - val_loss: 0.3956 - val_accuracy: 0.7939\n",
      "Epoch 57/100\n",
      "371/371 [==============================] - 7s 18ms/step - loss: 0.2795 - accuracy: 0.8805 - val_loss: 0.4782 - val_accuracy: 0.7545\n",
      "Epoch 58/100\n",
      "371/371 [==============================] - 2s 7ms/step - loss: 0.2801 - accuracy: 0.8809 - val_loss: 0.3526 - val_accuracy: 0.8138\n",
      "Epoch 59/100\n",
      "371/371 [==============================] - 2s 6ms/step - loss: 0.2780 - accuracy: 0.8824 - val_loss: 0.3973 - val_accuracy: 0.7922\n",
      "Epoch 60/100\n",
      "371/371 [==============================] - 2s 7ms/step - loss: 0.2766 - accuracy: 0.8818 - val_loss: 0.4127 - val_accuracy: 0.7862\n",
      "Epoch 61/100\n",
      "371/371 [==============================] - 6s 17ms/step - loss: 0.2787 - accuracy: 0.8824 - val_loss: 0.4227 - val_accuracy: 0.7845\n",
      "Epoch 62/100\n",
      "371/371 [==============================] - 3s 9ms/step - loss: 0.2772 - accuracy: 0.8834 - val_loss: 0.4499 - val_accuracy: 0.7632\n",
      "Epoch 63/100\n",
      "371/371 [==============================] - 7s 19ms/step - loss: 0.2786 - accuracy: 0.8834 - val_loss: 0.3404 - val_accuracy: 0.8175\n",
      "Epoch 64/100\n",
      "371/371 [==============================] - 4s 10ms/step - loss: 0.2768 - accuracy: 0.8821 - val_loss: 0.3859 - val_accuracy: 0.7970\n",
      "Epoch 65/100\n",
      "371/371 [==============================] - 7s 18ms/step - loss: 0.2763 - accuracy: 0.8823 - val_loss: 0.4155 - val_accuracy: 0.7828\n",
      "Epoch 66/100\n",
      "371/371 [==============================] - 3s 8ms/step - loss: 0.2769 - accuracy: 0.8826 - val_loss: 0.3810 - val_accuracy: 0.7976\n",
      "Epoch 67/100\n",
      "371/371 [==============================] - 7s 20ms/step - loss: 0.2755 - accuracy: 0.8805 - val_loss: 0.4148 - val_accuracy: 0.7831\n",
      "Epoch 68/100\n",
      "371/371 [==============================] - 3s 8ms/step - loss: 0.2752 - accuracy: 0.8834 - val_loss: 0.4131 - val_accuracy: 0.7838\n",
      "Epoch 69/100\n",
      "371/371 [==============================] - 7s 18ms/step - loss: 0.2742 - accuracy: 0.8834 - val_loss: 0.4755 - val_accuracy: 0.7589\n",
      "Epoch 70/100\n",
      "371/371 [==============================] - 4s 10ms/step - loss: 0.2754 - accuracy: 0.8823 - val_loss: 0.4415 - val_accuracy: 0.7680\n",
      "Epoch 71/100\n",
      "371/371 [==============================] - 7s 18ms/step - loss: 0.2727 - accuracy: 0.8834 - val_loss: 0.3994 - val_accuracy: 0.7949\n",
      "Epoch 72/100\n",
      "371/371 [==============================] - 3s 8ms/step - loss: 0.2726 - accuracy: 0.8856 - val_loss: 0.4185 - val_accuracy: 0.7804\n",
      "Epoch 73/100\n",
      "371/371 [==============================] - 3s 8ms/step - loss: 0.2731 - accuracy: 0.8856 - val_loss: 0.3471 - val_accuracy: 0.8159\n",
      "Epoch 74/100\n",
      "371/371 [==============================] - 3s 8ms/step - loss: 0.2727 - accuracy: 0.8851 - val_loss: 0.4198 - val_accuracy: 0.7831\n",
      "Epoch 75/100\n",
      "371/371 [==============================] - 3s 8ms/step - loss: 0.2725 - accuracy: 0.8844 - val_loss: 0.3956 - val_accuracy: 0.7983\n",
      "Epoch 76/100\n",
      "371/371 [==============================] - 3s 9ms/step - loss: 0.2729 - accuracy: 0.8844 - val_loss: 0.4439 - val_accuracy: 0.7676\n",
      "Epoch 77/100\n",
      "371/371 [==============================] - 3s 9ms/step - loss: 0.2722 - accuracy: 0.8848 - val_loss: 0.3652 - val_accuracy: 0.8047\n",
      "Epoch 78/100\n",
      "371/371 [==============================] - 3s 8ms/step - loss: 0.2733 - accuracy: 0.8848 - val_loss: 0.4118 - val_accuracy: 0.7868\n",
      "Epoch 79/100\n",
      "371/371 [==============================] - 3s 7ms/step - loss: 0.2716 - accuracy: 0.8856 - val_loss: 0.4503 - val_accuracy: 0.7619\n",
      "Epoch 80/100\n",
      "371/371 [==============================] - 3s 8ms/step - loss: 0.2718 - accuracy: 0.8862 - val_loss: 0.3966 - val_accuracy: 0.7889\n",
      "Epoch 81/100\n",
      "371/371 [==============================] - 3s 7ms/step - loss: 0.2707 - accuracy: 0.8873 - val_loss: 0.3661 - val_accuracy: 0.8078\n",
      "Epoch 82/100\n",
      "371/371 [==============================] - 2s 7ms/step - loss: 0.2699 - accuracy: 0.8862 - val_loss: 0.3939 - val_accuracy: 0.7943\n",
      "Epoch 83/100\n",
      "371/371 [==============================] - 4s 10ms/step - loss: 0.2694 - accuracy: 0.8852 - val_loss: 0.3941 - val_accuracy: 0.7919\n",
      "Epoch 84/100\n",
      "371/371 [==============================] - 3s 9ms/step - loss: 0.2693 - accuracy: 0.8865 - val_loss: 0.4049 - val_accuracy: 0.7848\n",
      "Epoch 85/100\n",
      "371/371 [==============================] - 4s 12ms/step - loss: 0.2687 - accuracy: 0.8852 - val_loss: 0.4198 - val_accuracy: 0.7838\n",
      "Epoch 86/100\n",
      "371/371 [==============================] - 3s 9ms/step - loss: 0.2686 - accuracy: 0.8870 - val_loss: 0.3964 - val_accuracy: 0.7953\n",
      "Epoch 87/100\n",
      "371/371 [==============================] - 4s 12ms/step - loss: 0.2678 - accuracy: 0.8858 - val_loss: 0.4149 - val_accuracy: 0.7885\n",
      "Epoch 88/100\n",
      "371/371 [==============================] - 4s 10ms/step - loss: 0.2683 - accuracy: 0.8867 - val_loss: 0.4403 - val_accuracy: 0.7710\n",
      "Epoch 89/100\n",
      "371/371 [==============================] - 3s 8ms/step - loss: 0.2683 - accuracy: 0.8877 - val_loss: 0.4010 - val_accuracy: 0.7875\n",
      "Epoch 90/100\n",
      "371/371 [==============================] - 4s 10ms/step - loss: 0.2672 - accuracy: 0.8863 - val_loss: 0.3706 - val_accuracy: 0.8081\n",
      "Epoch 91/100\n",
      "371/371 [==============================] - 3s 9ms/step - loss: 0.2669 - accuracy: 0.8869 - val_loss: 0.3282 - val_accuracy: 0.8337\n",
      "Epoch 92/100\n",
      "371/371 [==============================] - 3s 9ms/step - loss: 0.2669 - accuracy: 0.8876 - val_loss: 0.3431 - val_accuracy: 0.8199\n",
      "Epoch 93/100\n",
      "371/371 [==============================] - 4s 11ms/step - loss: 0.2668 - accuracy: 0.8861 - val_loss: 0.4784 - val_accuracy: 0.7528\n",
      "Epoch 94/100\n",
      "371/371 [==============================] - 4s 10ms/step - loss: 0.2673 - accuracy: 0.8873 - val_loss: 0.3205 - val_accuracy: 0.8324\n",
      "Epoch 95/100\n",
      "371/371 [==============================] - 4s 11ms/step - loss: 0.2649 - accuracy: 0.8881 - val_loss: 0.4322 - val_accuracy: 0.7767\n",
      "Epoch 96/100\n",
      "371/371 [==============================] - 3s 7ms/step - loss: 0.2664 - accuracy: 0.8868 - val_loss: 0.3936 - val_accuracy: 0.7956\n",
      "Epoch 97/100\n",
      "371/371 [==============================] - 3s 8ms/step - loss: 0.2664 - accuracy: 0.8859 - val_loss: 0.4197 - val_accuracy: 0.7818\n",
      "Epoch 98/100\n",
      "371/371 [==============================] - 5s 12ms/step - loss: 0.2642 - accuracy: 0.8885 - val_loss: 0.3988 - val_accuracy: 0.7899\n",
      "Epoch 99/100\n",
      "371/371 [==============================] - 3s 9ms/step - loss: 0.2639 - accuracy: 0.8881 - val_loss: 0.4237 - val_accuracy: 0.7791\n",
      "Epoch 100/100\n",
      "371/371 [==============================] - 3s 9ms/step - loss: 0.2650 - accuracy: 0.8864 - val_loss: 0.4215 - val_accuracy: 0.7781\n"
     ]
    }
   ],
   "source": [
    "history=nn_model.fit(\n",
    "    X_train,y_train,epochs=100,batch_size=32,validation_split=0.2\n",
    ");"
   ]
  },
  {
   "cell_type": "code",
   "execution_count": 99,
   "metadata": {},
   "outputs": [
    {
     "data": {
      "image/png": "[encoded data removed]",
      "text/plain": [
       "<Figure size 640x480 with 1 Axes>"
      ]
     },
     "metadata": {},
     "output_type": "display_data"
    },
    {
     "data": {
      "image/png": "[encoded data removed]",
      "text/plain": [
       "<Figure size 640x480 with 1 Axes>"
      ]
     },
     "metadata": {},
     "output_type": "display_data"
    }
   ],
   "source": [
    "plot_loss(history)\n",
    "plot_accuracy(history)"
   ]
  },
  {
   "cell_type": "markdown",
   "metadata": {},
   "source": [
    "### slightly better then SVM"
   ]
  },
  {
   "cell_type": "code",
   "execution_count": 102,
   "metadata": {},
   "outputs": [],
   "source": [
    "def train_NN_model(X_train,y_train,num_nodes,dropout_prob,batch_size,epochs,learning_rate=0.001):\n",
    "    nn_model= tf.keras.Sequential([\n",
    "    tf.keras.layers.Dense(num_nodes,activation=\"relu\",input_shape=(10,)), # activation options relu, sigmoid tanh\n",
    "    tf.keras.layers.Droupout(dropout_prob),\n",
    "    tf.keras.layers.Dense(num_nodes,activation=\"relu\"),\n",
    "    tf.keras.layers.Droupout(dropout_prob),\n",
    "    tf.keras.layers.Dense(1,activation=\"sigmoid\") # always use sigmoid for last/output layer for activation\n",
    "    ]) \n",
    "\n",
    "    nn_model.compile(optimizer=tf.keras.optimizers.Adam(learning_rate),loss=\"binary_crossentropy\",metrics=[\"accuracy\"])  \n",
    "\n",
    "    history=nn_model.fit(\n",
    "    X_train,y_train,epochs=epochs,batch_size=batch_size,validation_split=0.2,verbose=0\n",
    "    )\n",
    "    return nn_model,history"
   ]
  },
  {
   "cell_type": "markdown",
   "metadata": {},
   "source": [
    "## L1 Loss & L2 Loss\n",
    "L1: $loss = sum(|y_{real} - y_{predicted}|)$\n",
    "\n",
    "L2: $loss = sum((y_{real} - y_{predicted})^{2})$\n",
    "\n",
    "Binary cross Entropy loss\n",
    "\n",
    "$$loss = \\frac{-1}{N}*sum(y_{real}*log(y_{predicted} + (1-y_{real})*log((1-y_{predicted}))))$$"
   ]
  },
  {
   "cell_type": "markdown",
   "metadata": {},
   "source": []
  }
 ],
 "metadata": {
  "kernelspec": {
   "display_name": "base",
   "language": "python",
   "name": "python3"
  },
  "language_info": {
   "codemirror_mode": {
    "name": "ipython",
    "version": 3
   },
   "file_extension": ".py",
   "mimetype": "text/x-python",
   "name": "python",
   "nbconvert_exporter": "python",
   "pygments_lexer": "ipython3",
   "version": "3.11.5"
  }
 },
 "nbformat": 4,
 "nbformat_minor": 2
}
