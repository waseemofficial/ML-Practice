{
 "cells": [
  {
   "cell_type": "markdown",
   "metadata": {},
   "source": [
    "## <div align=\"center\" style=\"color:#2dba4e\"> Pandas Basic</div>"
   ]
  },
  {
   "cell_type": "code",
   "execution_count": 20,
   "metadata": {},
   "outputs": [],
   "source": [
    "#   https://www.youtube.com/watch?v=FTpmwX94_Yo\n",
    "import numpy as np\n",
    "import pandas as pd\n",
    "import matplotlib.pyplot as plt\n",
    "from rich import print as rprint"
   ]
  },
  {
   "cell_type": "code",
   "execution_count": 21,
   "metadata": {},
   "outputs": [],
   "source": [
    "data=pd.DataFrame({\"name\":[\"Anna\" , \"karen\",\"John\"],\n",
    "                   \"Age\":[35,30,57],\n",
    "                   \"Salary\":[20000,60000,45000],\n",
    "                   \"Department\":[\"Tech\",\"Tech\",\"finance\"]})\n"
   ]
  },
  {
   "cell_type": "code",
   "execution_count": 22,
   "metadata": {},
   "outputs": [
    {
     "name": "stdout",
     "output_type": "stream",
     "text": [
      "    name  Age  Salary Department\n",
      "0   Anna   35   20000       Tech\n",
      "2   John   57   45000    finance\n",
      "1  karen   30   60000       Tech\n"
     ]
    }
   ],
   "source": [
    "\n",
    "print(data.sort_values(by=\"Salary\",ascending=True))"
   ]
  },
  {
   "cell_type": "code",
   "execution_count": 23,
   "metadata": {},
   "outputs": [
    {
     "data": {
      "text/html": [
       "<pre style=\"white-space:pre;overflow-x:auto;line-height:normal;font-family:Menlo,'DejaVu Sans Mono',consolas,'Courier New',monospace\">            name  Age  Salary\n",
       "Department                   \n",
       "Tech           <span style=\"color: #008080; text-decoration-color: #008080; font-weight: bold\">2</span>    <span style=\"color: #008080; text-decoration-color: #008080; font-weight: bold\">2</span>       <span style=\"color: #008080; text-decoration-color: #008080; font-weight: bold\">2</span>\n",
       "finance        <span style=\"color: #008080; text-decoration-color: #008080; font-weight: bold\">1</span>    <span style=\"color: #008080; text-decoration-color: #008080; font-weight: bold\">1</span>       <span style=\"color: #008080; text-decoration-color: #008080; font-weight: bold\">1</span>\n",
       "</pre>\n"
      ],
      "text/plain": [
       "            name  Age  Salary\n",
       "Department                   \n",
       "Tech           \u001b[1;36m2\u001b[0m    \u001b[1;36m2\u001b[0m       \u001b[1;36m2\u001b[0m\n",
       "finance        \u001b[1;36m1\u001b[0m    \u001b[1;36m1\u001b[0m       \u001b[1;36m1\u001b[0m\n"
      ]
     },
     "metadata": {},
     "output_type": "display_data"
    }
   ],
   "source": [
    "rprint(data.groupby(\"Department\").count())"
   ]
  },
  {
   "cell_type": "code",
   "execution_count": 24,
   "metadata": {},
   "outputs": [
    {
     "data": {
      "text/html": [
       "<pre style=\"white-space:pre;overflow-x:auto;line-height:normal;font-family:Menlo,'DejaVu Sans Mono',consolas,'Courier New',monospace\">Department\n",
       "Tech       <span style=\"color: #008080; text-decoration-color: #008080; font-weight: bold\">2</span>\n",
       "finance    <span style=\"color: #008080; text-decoration-color: #008080; font-weight: bold\">1</span>\n",
       "Name: name, dtype: int64\n",
       "</pre>\n"
      ],
      "text/plain": [
       "Department\n",
       "Tech       \u001b[1;36m2\u001b[0m\n",
       "finance    \u001b[1;36m1\u001b[0m\n",
       "Name: name, dtype: int64\n"
      ]
     },
     "metadata": {},
     "output_type": "display_data"
    }
   ],
   "source": [
    "rprint(data.groupby(\"Department\")[\"name\"].count())"
   ]
  },
  {
   "cell_type": "code",
   "execution_count": 25,
   "metadata": {},
   "outputs": [
    {
     "data": {
      "text/html": [
       "<pre style=\"white-space:pre;overflow-x:auto;line-height:normal;font-family:Menlo,'DejaVu Sans Mono',consolas,'Courier New',monospace\">Department\n",
       "Tech       <span style=\"color: #008080; text-decoration-color: #008080; font-weight: bold\">40000.0</span>\n",
       "finance    <span style=\"color: #008080; text-decoration-color: #008080; font-weight: bold\">45000.0</span>\n",
       "Name: Salary, dtype: float64\n",
       "</pre>\n"
      ],
      "text/plain": [
       "Department\n",
       "Tech       \u001b[1;36m40000.0\u001b[0m\n",
       "finance    \u001b[1;36m45000.0\u001b[0m\n",
       "Name: Salary, dtype: float64\n"
      ]
     },
     "metadata": {},
     "output_type": "display_data"
    }
   ],
   "source": [
    "rprint(data.groupby(\"Department\")[\"Salary\"].mean())"
   ]
  },
  {
   "cell_type": "code",
   "execution_count": 26,
   "metadata": {},
   "outputs": [
    {
     "data": {
      "text/html": [
       "<pre style=\"white-space:pre;overflow-x:auto;line-height:normal;font-family:Menlo,'DejaVu Sans Mono',consolas,'Courier New',monospace\">   name  Age  Salary Department\n",
       "<span style=\"color: #008080; text-decoration-color: #008080; font-weight: bold\">2</span>  John   <span style=\"color: #008080; text-decoration-color: #008080; font-weight: bold\">57</span>   <span style=\"color: #008080; text-decoration-color: #008080; font-weight: bold\">45000</span>    finance\n",
       "</pre>\n"
      ],
      "text/plain": [
       "   name  Age  Salary Department\n",
       "\u001b[1;36m2\u001b[0m  John   \u001b[1;36m57\u001b[0m   \u001b[1;36m45000\u001b[0m    finance\n"
      ]
     },
     "metadata": {},
     "output_type": "display_data"
    }
   ],
   "source": [
    "rprint(data[(data[\"Salary\"]>20000) & (data[\"Salary\"]<50000)])"
   ]
  },
  {
   "cell_type": "code",
   "execution_count": 27,
   "metadata": {},
   "outputs": [
    {
     "data": {
      "text/html": [
       "<pre style=\"white-space:pre;overflow-x:auto;line-height:normal;font-family:Menlo,'DejaVu Sans Mono',consolas,'Courier New',monospace\">    name  Age  Salary Department\n",
       "<span style=\"color: #008080; text-decoration-color: #008080; font-weight: bold\">1</span>  karen   <span style=\"color: #008080; text-decoration-color: #008080; font-weight: bold\">30</span>   <span style=\"color: #008080; text-decoration-color: #008080; font-weight: bold\">60000</span>       Tech\n",
       "<span style=\"color: #008080; text-decoration-color: #008080; font-weight: bold\">2</span>   John   <span style=\"color: #008080; text-decoration-color: #008080; font-weight: bold\">57</span>   <span style=\"color: #008080; text-decoration-color: #008080; font-weight: bold\">45000</span>    finance\n",
       "</pre>\n"
      ],
      "text/plain": [
       "    name  Age  Salary Department\n",
       "\u001b[1;36m1\u001b[0m  karen   \u001b[1;36m30\u001b[0m   \u001b[1;36m60000\u001b[0m       Tech\n",
       "\u001b[1;36m2\u001b[0m   John   \u001b[1;36m57\u001b[0m   \u001b[1;36m45000\u001b[0m    finance\n"
      ]
     },
     "metadata": {},
     "output_type": "display_data"
    }
   ],
   "source": [
    "rprint(data[data[\"Age\"].isin([30,57])])"
   ]
  },
  {
   "cell_type": "code",
   "execution_count": 28,
   "metadata": {},
   "outputs": [
    {
     "data": {
      "image/png": "[encoded data removed]",
      "text/plain": [
       "<Figure size 640x480 with 1 Axes>"
      ]
     },
     "metadata": {},
     "output_type": "display_data"
    }
   ],
   "source": [
    "from scipy.stats import norm\n",
    "X_normal = np.random.normal(0,1,1000)\n",
    "x_value = np.arange(-4,4,0.01)\n",
    "y_value = norm.ppf(x_value)\n",
    "\n",
    "counts, bins, ignored = plt.hist(X_normal,30, density=True,color=\"g\", label=\"Normal Distribution\")\n",
    "plt.plot(x_value,y_value)\n",
    "plt.title(\"Randomly generated Normal Distribution\")\n",
    "plt.ylabel(\"Probability\")\n",
    "plt.legend()\n",
    "plt.show()"
   ]
  },
  {
   "cell_type": "markdown",
   "metadata": {},
   "source": [
    "## <div align=\"center\" style=\"color:#2dba4e\"> A/B Test</div>"
   ]
  },
  {
   "cell_type": "code",
   "execution_count": null,
   "metadata": {},
   "outputs": [],
   "source": []
  }
 ],
 "metadata": {
  "kernelspec": {
   "display_name": "base",
   "language": "python",
   "name": "python3"
  },
  "language_info": {
   "codemirror_mode": {
    "name": "ipython",
    "version": 3
   },
   "file_extension": ".py",
   "mimetype": "text/x-python",
   "name": "python",
   "nbconvert_exporter": "python",
   "pygments_lexer": "ipython3",
   "version": "3.11.5"
  }
 },
 "nbformat": 4,
 "nbformat_minor": 2
}
